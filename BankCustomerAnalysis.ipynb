{
  "nbformat": 4,
  "nbformat_minor": 0,
  "metadata": {
    "colab": {
      "name": "ann_bank4.ipynb",
      "version": "0.3.2",
      "provenance": [],
      "collapsed_sections": [],
      "toc_visible": true
    },
    "kernelspec": {
      "display_name": "Python 3",
      "language": "python",
      "name": "python3"
    }
  },
  "cells": [
    {
      "metadata": {
        "_uuid": "e441e08560a8d273c77f9f82ceb427baffd189bc",
        "id": "CQa-I-BbVESc",
        "colab_type": "text"
      },
      "cell_type": "markdown",
      "source": [
        "<h2 style=\"background-color:powderblue; font-style: oblique\"># Bank Customer Behavior Analysis</h2>\n",
        "<p>\n",
        "<img src=\"https://cdn.lynda.com/course/371321/371321-636283011013428914-16x9.jpg\" width=\"600\">\n",
        "    </p>\n",
        "    <hr>\n",
        "<h3>Given a dataset consisiting of Bank Customer information, we want to build a classifier which will tell us if a customer will exit the bank or not.</h3>"
      ]
    },
    {
      "metadata": {
        "_cell_guid": "b1076dfc-b9ad-4769-8c92-a6c4dae69d19",
        "_uuid": "8f2839f25d086af736a60e9eeb907d3b93b6e0e5",
        "trusted": true,
        "id": "13vETTOdVESd",
        "colab_type": "code",
        "colab": {}
      },
      "cell_type": "code",
      "source": [
        "import theano\n",
        "import seaborn as sns\n",
        "import tensorflow\n",
        "import numpy as np\n",
        "import matplotlib.pyplot as plt\n",
        "import matplotlib.ticker as mtick\n",
        "import pandas as pd\n",
        "\n",
        "import os\n",
        "%matplotlib inline\n",
        "pd.options.display.float_format = '{:.2f}'.format\n",
        "\n",
        "import warnings\n",
        "warnings.filterwarnings('ignore')\n",
        "# print(os.listdir(\"../input\"))"
      ],
      "execution_count": 0,
      "outputs": []
    },
    {
      "metadata": {
        "trusted": true,
        "_uuid": "a821c85f4bc19f3718445dde1fb35127e6b7831c",
        "id": "2JYk9HiqVESi",
        "colab_type": "code",
        "scrolled": true,
        "colab": {}
      },
      "cell_type": "code",
      "source": [
        "data = pd.read_csv(\"Churn_Modelling.csv\")\n",
        "# data.shape"
      ],
      "execution_count": 0,
      "outputs": []
    },
    {
      "metadata": {
        "id": "8qoeMysozKDg",
        "colab_type": "code",
        "colab": {
          "base_uri": "https://localhost:8080/",
          "height": 224
        },
        "outputId": "d836c00a-0b4c-4efd-ce4e-388267dbceca"
      },
      "cell_type": "code",
      "source": [
        "data.head()"
      ],
      "execution_count": 180,
      "outputs": [
        {
          "output_type": "execute_result",
          "data": {
            "text/html": [
              "<div>\n",
              "<style scoped>\n",
              "    .dataframe tbody tr th:only-of-type {\n",
              "        vertical-align: middle;\n",
              "    }\n",
              "\n",
              "    .dataframe tbody tr th {\n",
              "        vertical-align: top;\n",
              "    }\n",
              "\n",
              "    .dataframe thead th {\n",
              "        text-align: right;\n",
              "    }\n",
              "</style>\n",
              "<table border=\"1\" class=\"dataframe\">\n",
              "  <thead>\n",
              "    <tr style=\"text-align: right;\">\n",
              "      <th></th>\n",
              "      <th>RowNumber</th>\n",
              "      <th>CustomerId</th>\n",
              "      <th>Surname</th>\n",
              "      <th>CreditScore</th>\n",
              "      <th>Geography</th>\n",
              "      <th>Gender</th>\n",
              "      <th>Age</th>\n",
              "      <th>Tenure</th>\n",
              "      <th>Balance</th>\n",
              "      <th>NumOfProducts</th>\n",
              "      <th>HasCrCard</th>\n",
              "      <th>IsActiveMember</th>\n",
              "      <th>EstimatedSalary</th>\n",
              "      <th>Exited</th>\n",
              "    </tr>\n",
              "  </thead>\n",
              "  <tbody>\n",
              "    <tr>\n",
              "      <th>0</th>\n",
              "      <td>1</td>\n",
              "      <td>15634602</td>\n",
              "      <td>Hargrave</td>\n",
              "      <td>619</td>\n",
              "      <td>France</td>\n",
              "      <td>Female</td>\n",
              "      <td>42</td>\n",
              "      <td>2</td>\n",
              "      <td>0.00</td>\n",
              "      <td>1</td>\n",
              "      <td>1</td>\n",
              "      <td>1</td>\n",
              "      <td>101348.88</td>\n",
              "      <td>1</td>\n",
              "    </tr>\n",
              "    <tr>\n",
              "      <th>1</th>\n",
              "      <td>2</td>\n",
              "      <td>15647311</td>\n",
              "      <td>Hill</td>\n",
              "      <td>608</td>\n",
              "      <td>Spain</td>\n",
              "      <td>Female</td>\n",
              "      <td>41</td>\n",
              "      <td>1</td>\n",
              "      <td>83807.86</td>\n",
              "      <td>1</td>\n",
              "      <td>0</td>\n",
              "      <td>1</td>\n",
              "      <td>112542.58</td>\n",
              "      <td>0</td>\n",
              "    </tr>\n",
              "    <tr>\n",
              "      <th>2</th>\n",
              "      <td>3</td>\n",
              "      <td>15619304</td>\n",
              "      <td>Onio</td>\n",
              "      <td>502</td>\n",
              "      <td>France</td>\n",
              "      <td>Female</td>\n",
              "      <td>42</td>\n",
              "      <td>8</td>\n",
              "      <td>159660.80</td>\n",
              "      <td>3</td>\n",
              "      <td>1</td>\n",
              "      <td>0</td>\n",
              "      <td>113931.57</td>\n",
              "      <td>1</td>\n",
              "    </tr>\n",
              "    <tr>\n",
              "      <th>3</th>\n",
              "      <td>4</td>\n",
              "      <td>15701354</td>\n",
              "      <td>Boni</td>\n",
              "      <td>699</td>\n",
              "      <td>France</td>\n",
              "      <td>Female</td>\n",
              "      <td>39</td>\n",
              "      <td>1</td>\n",
              "      <td>0.00</td>\n",
              "      <td>2</td>\n",
              "      <td>0</td>\n",
              "      <td>0</td>\n",
              "      <td>93826.63</td>\n",
              "      <td>0</td>\n",
              "    </tr>\n",
              "    <tr>\n",
              "      <th>4</th>\n",
              "      <td>5</td>\n",
              "      <td>15737888</td>\n",
              "      <td>Mitchell</td>\n",
              "      <td>850</td>\n",
              "      <td>Spain</td>\n",
              "      <td>Female</td>\n",
              "      <td>43</td>\n",
              "      <td>2</td>\n",
              "      <td>125510.82</td>\n",
              "      <td>1</td>\n",
              "      <td>1</td>\n",
              "      <td>1</td>\n",
              "      <td>79084.10</td>\n",
              "      <td>0</td>\n",
              "    </tr>\n",
              "  </tbody>\n",
              "</table>\n",
              "</div>"
            ],
            "text/plain": [
              "   RowNumber  CustomerId   Surname  CreditScore Geography  Gender  Age  \\\n",
              "0          1    15634602  Hargrave          619    France  Female   42   \n",
              "1          2    15647311      Hill          608     Spain  Female   41   \n",
              "2          3    15619304      Onio          502    France  Female   42   \n",
              "3          4    15701354      Boni          699    France  Female   39   \n",
              "4          5    15737888  Mitchell          850     Spain  Female   43   \n",
              "\n",
              "   Tenure   Balance  NumOfProducts  HasCrCard  IsActiveMember  \\\n",
              "0       2      0.00              1          1               1   \n",
              "1       1  83807.86              1          0               1   \n",
              "2       8 159660.80              3          1               0   \n",
              "3       1      0.00              2          0               0   \n",
              "4       2 125510.82              1          1               1   \n",
              "\n",
              "   EstimatedSalary  Exited  \n",
              "0        101348.88       1  \n",
              "1        112542.58       0  \n",
              "2        113931.57       1  \n",
              "3         93826.63       0  \n",
              "4         79084.10       0  "
            ]
          },
          "metadata": {
            "tags": []
          },
          "execution_count": 180
        }
      ]
    },
    {
      "metadata": {
        "id": "hahXi_X6ibhB",
        "colab_type": "text"
      },
      "cell_type": "markdown",
      "source": [
        "RowNumber <br>\n",
        "CustomerId <br>\n",
        "Surname <br>\n",
        "CreditScore <br>\n",
        "Geography <br>\n",
        "Gender <br>\n",
        "Age <br>\n",
        "Tenure <br>\n",
        "Balance <br>\n",
        "NumOfProducts -- How many accounts, bank account affiliated products the person has\n",
        "HasCrCard <br>\n",
        "IsActiveMember -- Subjective, but for the concept <br>\n",
        "EstimatedSalary <br>\n",
        "Exited -- Did they leave the bank after all? "
      ]
    },
    {
      "metadata": {
        "id": "oFWniOULzdaK",
        "colab_type": "text"
      },
      "cell_type": "markdown",
      "source": [
        "## Data preprocessing"
      ]
    },
    {
      "metadata": {
        "trusted": true,
        "_uuid": "0c0b4b03f125823be45923c6533751cbce59d42c",
        "id": "pXobzoS6VESm",
        "colab_type": "code",
        "outputId": "21982d27-e870-489d-d6b5-77d89e2363dc",
        "colab": {
          "base_uri": "https://localhost:8080/",
          "height": 272
        }
      },
      "cell_type": "code",
      "source": [
        "data.isnull().sum()"
      ],
      "execution_count": 5,
      "outputs": [
        {
          "output_type": "execute_result",
          "data": {
            "text/plain": [
              "RowNumber          0\n",
              "CustomerId         0\n",
              "Surname            0\n",
              "CreditScore        0\n",
              "Geography          0\n",
              "Gender             0\n",
              "Age                0\n",
              "Tenure             0\n",
              "Balance            0\n",
              "NumOfProducts      0\n",
              "HasCrCard          0\n",
              "IsActiveMember     0\n",
              "EstimatedSalary    0\n",
              "Exited             0\n",
              "dtype: int64"
            ]
          },
          "metadata": {
            "tags": []
          },
          "execution_count": 5
        }
      ]
    },
    {
      "metadata": {
        "id": "dPEuUBl0hu4k",
        "colab_type": "text"
      },
      "cell_type": "markdown",
      "source": [
        "**drop columns which are unrelated **"
      ]
    },
    {
      "metadata": {
        "trusted": true,
        "_uuid": "bd340533013904ac66c5413902aa42e1c1cc380a",
        "id": "kKSBnVnXVESp",
        "colab_type": "code",
        "colab": {}
      },
      "cell_type": "code",
      "source": [
        "# drop columns unmeaningful to our data \n",
        "drop_data = data.drop(columns=['RowNumber','CustomerId','Surname'])"
      ],
      "execution_count": 0,
      "outputs": []
    },
    {
      "metadata": {
        "trusted": true,
        "_uuid": "e1abc0edf859f8bc71b686394cc07fa16aacc849",
        "id": "tKOxqoNzVESr",
        "colab_type": "code",
        "outputId": "cc5be08f-253e-4991-eb1b-18038e108e0c",
        "colab": {
          "base_uri": "https://localhost:8080/",
          "height": 224
        }
      },
      "cell_type": "code",
      "source": [
        "drop_data.head()"
      ],
      "execution_count": 8,
      "outputs": [
        {
          "output_type": "execute_result",
          "data": {
            "text/html": [
              "<div>\n",
              "<style scoped>\n",
              "    .dataframe tbody tr th:only-of-type {\n",
              "        vertical-align: middle;\n",
              "    }\n",
              "\n",
              "    .dataframe tbody tr th {\n",
              "        vertical-align: top;\n",
              "    }\n",
              "\n",
              "    .dataframe thead th {\n",
              "        text-align: right;\n",
              "    }\n",
              "</style>\n",
              "<table border=\"1\" class=\"dataframe\">\n",
              "  <thead>\n",
              "    <tr style=\"text-align: right;\">\n",
              "      <th></th>\n",
              "      <th>CreditScore</th>\n",
              "      <th>Geography</th>\n",
              "      <th>Gender</th>\n",
              "      <th>Age</th>\n",
              "      <th>Tenure</th>\n",
              "      <th>Balance</th>\n",
              "      <th>NumOfProducts</th>\n",
              "      <th>HasCrCard</th>\n",
              "      <th>IsActiveMember</th>\n",
              "      <th>EstimatedSalary</th>\n",
              "      <th>Exited</th>\n",
              "    </tr>\n",
              "  </thead>\n",
              "  <tbody>\n",
              "    <tr>\n",
              "      <th>0</th>\n",
              "      <td>619</td>\n",
              "      <td>France</td>\n",
              "      <td>Female</td>\n",
              "      <td>42</td>\n",
              "      <td>2</td>\n",
              "      <td>0.00</td>\n",
              "      <td>1</td>\n",
              "      <td>1</td>\n",
              "      <td>1</td>\n",
              "      <td>101348.88</td>\n",
              "      <td>1</td>\n",
              "    </tr>\n",
              "    <tr>\n",
              "      <th>1</th>\n",
              "      <td>608</td>\n",
              "      <td>Spain</td>\n",
              "      <td>Female</td>\n",
              "      <td>41</td>\n",
              "      <td>1</td>\n",
              "      <td>83807.86</td>\n",
              "      <td>1</td>\n",
              "      <td>0</td>\n",
              "      <td>1</td>\n",
              "      <td>112542.58</td>\n",
              "      <td>0</td>\n",
              "    </tr>\n",
              "    <tr>\n",
              "      <th>2</th>\n",
              "      <td>502</td>\n",
              "      <td>France</td>\n",
              "      <td>Female</td>\n",
              "      <td>42</td>\n",
              "      <td>8</td>\n",
              "      <td>159660.80</td>\n",
              "      <td>3</td>\n",
              "      <td>1</td>\n",
              "      <td>0</td>\n",
              "      <td>113931.57</td>\n",
              "      <td>1</td>\n",
              "    </tr>\n",
              "    <tr>\n",
              "      <th>3</th>\n",
              "      <td>699</td>\n",
              "      <td>France</td>\n",
              "      <td>Female</td>\n",
              "      <td>39</td>\n",
              "      <td>1</td>\n",
              "      <td>0.00</td>\n",
              "      <td>2</td>\n",
              "      <td>0</td>\n",
              "      <td>0</td>\n",
              "      <td>93826.63</td>\n",
              "      <td>0</td>\n",
              "    </tr>\n",
              "    <tr>\n",
              "      <th>4</th>\n",
              "      <td>850</td>\n",
              "      <td>Spain</td>\n",
              "      <td>Female</td>\n",
              "      <td>43</td>\n",
              "      <td>2</td>\n",
              "      <td>125510.82</td>\n",
              "      <td>1</td>\n",
              "      <td>1</td>\n",
              "      <td>1</td>\n",
              "      <td>79084.10</td>\n",
              "      <td>0</td>\n",
              "    </tr>\n",
              "  </tbody>\n",
              "</table>\n",
              "</div>"
            ],
            "text/plain": [
              "   CreditScore Geography  Gender  Age  Tenure   Balance  NumOfProducts  \\\n",
              "0          619    France  Female   42       2      0.00              1   \n",
              "1          608     Spain  Female   41       1  83807.86              1   \n",
              "2          502    France  Female   42       8 159660.80              3   \n",
              "3          699    France  Female   39       1      0.00              2   \n",
              "4          850     Spain  Female   43       2 125510.82              1   \n",
              "\n",
              "   HasCrCard  IsActiveMember  EstimatedSalary  Exited  \n",
              "0          1               1        101348.88       1  \n",
              "1          0               1        112542.58       0  \n",
              "2          1               0        113931.57       1  \n",
              "3          0               0         93826.63       0  \n",
              "4          1               1         79084.10       0  "
            ]
          },
          "metadata": {
            "tags": []
          },
          "execution_count": 8
        }
      ]
    },
    {
      "metadata": {
        "trusted": true,
        "_uuid": "f0c276b3dfe3d0249e76062fb1bef2661ebe8d29",
        "id": "EyNmDmtAVESu",
        "colab_type": "code",
        "outputId": "81cacac7-b586-41be-9501-3c190057a441",
        "colab": {
          "base_uri": "https://localhost:8080/",
          "height": 221
        }
      },
      "cell_type": "code",
      "source": [
        "drop_data.dtypes"
      ],
      "execution_count": 9,
      "outputs": [
        {
          "output_type": "execute_result",
          "data": {
            "text/plain": [
              "CreditScore          int64\n",
              "Geography           object\n",
              "Gender              object\n",
              "Age                  int64\n",
              "Tenure               int64\n",
              "Balance            float64\n",
              "NumOfProducts        int64\n",
              "HasCrCard            int64\n",
              "IsActiveMember       int64\n",
              "EstimatedSalary    float64\n",
              "Exited               int64\n",
              "dtype: object"
            ]
          },
          "metadata": {
            "tags": []
          },
          "execution_count": 9
        }
      ]
    },
    {
      "metadata": {
        "trusted": true,
        "_uuid": "7876ceaa9070198c079565df8490dd1b36a4f16e",
        "id": "NYSRKDBDVESx",
        "colab_type": "code",
        "outputId": "5f7ccf8d-5f8b-424e-c19f-1850c1df392c",
        "colab": {
          "base_uri": "https://localhost:8080/",
          "height": 34
        }
      },
      "cell_type": "code",
      "source": [
        "drop_data['Geography'].unique()"
      ],
      "execution_count": 10,
      "outputs": [
        {
          "output_type": "execute_result",
          "data": {
            "text/plain": [
              "array(['France', 'Spain', 'Germany'], dtype=object)"
            ]
          },
          "metadata": {
            "tags": []
          },
          "execution_count": 10
        }
      ]
    },
    {
      "metadata": {
        "trusted": true,
        "_uuid": "a05e0871e4073a2217bd6e3ceedee09ed928ea5b",
        "id": "XcdTTv0hVES2",
        "colab_type": "code",
        "outputId": "f4cfc84e-5486-4a2f-c07c-4bee8b1df935",
        "colab": {
          "base_uri": "https://localhost:8080/",
          "height": 34
        }
      },
      "cell_type": "code",
      "source": [
        "drop_data['Gender'].unique()"
      ],
      "execution_count": 11,
      "outputs": [
        {
          "output_type": "execute_result",
          "data": {
            "text/plain": [
              "array(['Female', 'Male'], dtype=object)"
            ]
          },
          "metadata": {
            "tags": []
          },
          "execution_count": 11
        }
      ]
    },
    {
      "metadata": {
        "trusted": true,
        "_uuid": "83690a56e788edcfc87b7676a5c836a18830ded1",
        "id": "iVjWfNWxVES5",
        "colab_type": "code",
        "outputId": "63e746b5-7fda-4ede-e88b-fa2b8e83c1a4",
        "colab": {
          "base_uri": "https://localhost:8080/",
          "height": 224
        }
      },
      "cell_type": "code",
      "source": [
        "one_hot_encoder_data = pd.get_dummies(drop_data)\n",
        "one_hot_encoder_data.head()"
      ],
      "execution_count": 12,
      "outputs": [
        {
          "output_type": "execute_result",
          "data": {
            "text/html": [
              "<div>\n",
              "<style scoped>\n",
              "    .dataframe tbody tr th:only-of-type {\n",
              "        vertical-align: middle;\n",
              "    }\n",
              "\n",
              "    .dataframe tbody tr th {\n",
              "        vertical-align: top;\n",
              "    }\n",
              "\n",
              "    .dataframe thead th {\n",
              "        text-align: right;\n",
              "    }\n",
              "</style>\n",
              "<table border=\"1\" class=\"dataframe\">\n",
              "  <thead>\n",
              "    <tr style=\"text-align: right;\">\n",
              "      <th></th>\n",
              "      <th>CreditScore</th>\n",
              "      <th>Age</th>\n",
              "      <th>Tenure</th>\n",
              "      <th>Balance</th>\n",
              "      <th>NumOfProducts</th>\n",
              "      <th>HasCrCard</th>\n",
              "      <th>IsActiveMember</th>\n",
              "      <th>EstimatedSalary</th>\n",
              "      <th>Exited</th>\n",
              "      <th>Geography_France</th>\n",
              "      <th>Geography_Germany</th>\n",
              "      <th>Geography_Spain</th>\n",
              "      <th>Gender_Female</th>\n",
              "      <th>Gender_Male</th>\n",
              "    </tr>\n",
              "  </thead>\n",
              "  <tbody>\n",
              "    <tr>\n",
              "      <th>0</th>\n",
              "      <td>619</td>\n",
              "      <td>42</td>\n",
              "      <td>2</td>\n",
              "      <td>0.00</td>\n",
              "      <td>1</td>\n",
              "      <td>1</td>\n",
              "      <td>1</td>\n",
              "      <td>101348.88</td>\n",
              "      <td>1</td>\n",
              "      <td>1</td>\n",
              "      <td>0</td>\n",
              "      <td>0</td>\n",
              "      <td>1</td>\n",
              "      <td>0</td>\n",
              "    </tr>\n",
              "    <tr>\n",
              "      <th>1</th>\n",
              "      <td>608</td>\n",
              "      <td>41</td>\n",
              "      <td>1</td>\n",
              "      <td>83807.86</td>\n",
              "      <td>1</td>\n",
              "      <td>0</td>\n",
              "      <td>1</td>\n",
              "      <td>112542.58</td>\n",
              "      <td>0</td>\n",
              "      <td>0</td>\n",
              "      <td>0</td>\n",
              "      <td>1</td>\n",
              "      <td>1</td>\n",
              "      <td>0</td>\n",
              "    </tr>\n",
              "    <tr>\n",
              "      <th>2</th>\n",
              "      <td>502</td>\n",
              "      <td>42</td>\n",
              "      <td>8</td>\n",
              "      <td>159660.80</td>\n",
              "      <td>3</td>\n",
              "      <td>1</td>\n",
              "      <td>0</td>\n",
              "      <td>113931.57</td>\n",
              "      <td>1</td>\n",
              "      <td>1</td>\n",
              "      <td>0</td>\n",
              "      <td>0</td>\n",
              "      <td>1</td>\n",
              "      <td>0</td>\n",
              "    </tr>\n",
              "    <tr>\n",
              "      <th>3</th>\n",
              "      <td>699</td>\n",
              "      <td>39</td>\n",
              "      <td>1</td>\n",
              "      <td>0.00</td>\n",
              "      <td>2</td>\n",
              "      <td>0</td>\n",
              "      <td>0</td>\n",
              "      <td>93826.63</td>\n",
              "      <td>0</td>\n",
              "      <td>1</td>\n",
              "      <td>0</td>\n",
              "      <td>0</td>\n",
              "      <td>1</td>\n",
              "      <td>0</td>\n",
              "    </tr>\n",
              "    <tr>\n",
              "      <th>4</th>\n",
              "      <td>850</td>\n",
              "      <td>43</td>\n",
              "      <td>2</td>\n",
              "      <td>125510.82</td>\n",
              "      <td>1</td>\n",
              "      <td>1</td>\n",
              "      <td>1</td>\n",
              "      <td>79084.10</td>\n",
              "      <td>0</td>\n",
              "      <td>0</td>\n",
              "      <td>0</td>\n",
              "      <td>1</td>\n",
              "      <td>1</td>\n",
              "      <td>0</td>\n",
              "    </tr>\n",
              "  </tbody>\n",
              "</table>\n",
              "</div>"
            ],
            "text/plain": [
              "   CreditScore  Age  Tenure   Balance  NumOfProducts  HasCrCard  \\\n",
              "0          619   42       2      0.00              1          1   \n",
              "1          608   41       1  83807.86              1          0   \n",
              "2          502   42       8 159660.80              3          1   \n",
              "3          699   39       1      0.00              2          0   \n",
              "4          850   43       2 125510.82              1          1   \n",
              "\n",
              "   IsActiveMember  EstimatedSalary  Exited  Geography_France  \\\n",
              "0               1        101348.88       1                 1   \n",
              "1               1        112542.58       0                 0   \n",
              "2               0        113931.57       1                 1   \n",
              "3               0         93826.63       0                 1   \n",
              "4               1         79084.10       0                 0   \n",
              "\n",
              "   Geography_Germany  Geography_Spain  Gender_Female  Gender_Male  \n",
              "0                  0                0              1            0  \n",
              "1                  0                1              1            0  \n",
              "2                  0                0              1            0  \n",
              "3                  0                0              1            0  \n",
              "4                  0                1              1            0  "
            ]
          },
          "metadata": {
            "tags": []
          },
          "execution_count": 12
        }
      ]
    },
    {
      "metadata": {
        "trusted": true,
        "_uuid": "c4b59e9b613e68536fb3566572978196daa51bd4",
        "id": "myPnBEtNVES8",
        "colab_type": "code",
        "outputId": "f0b430a9-ad6a-4f29-9a9b-7fe9adab5aaf",
        "colab": {
          "base_uri": "https://localhost:8080/",
          "height": 34
        }
      },
      "cell_type": "code",
      "source": [
        "one_hot_encoder_data.shape"
      ],
      "execution_count": 13,
      "outputs": [
        {
          "output_type": "execute_result",
          "data": {
            "text/plain": [
              "(10000, 14)"
            ]
          },
          "metadata": {
            "tags": []
          },
          "execution_count": 13
        }
      ]
    },
    {
      "metadata": {
        "id": "LZyjHp4bjXP5",
        "colab_type": "text"
      },
      "cell_type": "markdown",
      "source": [
        ""
      ]
    },
    {
      "metadata": {
        "trusted": true,
        "_uuid": "e88b5d0baf902ce515c9e82eca700e45838f65cb",
        "id": "suIfFRTnqSOT",
        "colab_type": "code",
        "outputId": "dbbe868c-a701-41e9-cb0f-0d5772480ce4",
        "colab": {
          "base_uri": "https://localhost:8080/",
          "height": 442
        }
      },
      "cell_type": "code",
      "source": [
        "plt.figure(figsize=(20,5))\n",
        "one_hot_encoder_data.corr()['Exited'].sort_values(ascending = False).plot(kind='bar')"
      ],
      "execution_count": 14,
      "outputs": [
        {
          "output_type": "execute_result",
          "data": {
            "text/plain": [
              "<matplotlib.axes._subplots.AxesSubplot at 0x7f7f4ea2e320>"
            ]
          },
          "metadata": {
            "tags": []
          },
          "execution_count": 14
        },
        {
          "output_type": "display_data",
          "data": {
            "image/png": "[encoded data removed]",
            "text/plain": [
              "<matplotlib.figure.Figure at 0x7f7f4ea6a6d8>"
            ]
          },
          "metadata": {
            "tags": []
          }
        }
      ]
    },
    {
      "metadata": {
        "_uuid": "bf8c76cb979320c8199be6afc64972e7e04499c6",
        "id": "BxqsPRSZVETM",
        "colab_type": "text"
      },
      "cell_type": "markdown",
      "source": [
        "** Looks like $Age$ and $Germany\\_people$  is  postively related to our customer churn and $France\\_people$ and $isActiveMember$ is most negatively correlated to our churn **\n",
        "\n",
        "**So let's plot them**"
      ]
    },
    {
      "metadata": {
        "trusted": true,
        "_uuid": "043844ff91fdf4d867e582c7fae977b32bb49ec6",
        "id": "C4BZtM77VETN",
        "colab_type": "code",
        "outputId": "c258e5e6-b37d-4b78-f93c-3e88c04e96a5",
        "colab": {
          "base_uri": "https://localhost:8080/",
          "height": 349
        }
      },
      "cell_type": "code",
      "source": [
        "plt.figure(figsize=(8,5))\n",
        "plt.title('Distribution of Churn')\n",
        "plt.xlabel('Churn')\n",
        "plt.ylabel('Frequency [%]')\n",
        "\n",
        "ax = (one_hot_encoder_data['Exited'].value_counts()/len(one_hot_encoder_data)*100).sort_index().plot(kind=\"bar\", rot=0)\n",
        "ax.set_yticks(np.arange(0, 110, 10))\n",
        "\n",
        "for p in ax.patches:\n",
        "    ax.annotate('{:.2f}%'.format(p.get_height()), (p.get_x()+0.15, p.get_height()+1))"
      ],
      "execution_count": 16,
      "outputs": [
        {
          "output_type": "display_data",
          "data": {
            "image/png": "[encoded data removed]",
            "text/plain": [
              "<matplotlib.figure.Figure at 0x7f7f4c144080>"
            ]
          },
          "metadata": {
            "tags": []
          }
        }
      ]
    },
    {
      "metadata": {
        "_uuid": "f1e3846c5916ad97cca681f060090940f0f19c29",
        "id": "V3SwTr43VETR",
        "colab_type": "text"
      },
      "cell_type": "markdown",
      "source": [
        "### $Data Exploring$\n",
        "<br>\n",
        "\n",
        "Age Distribution - About half of the customers in our data set 25~40"
      ]
    },
    {
      "metadata": {
        "trusted": true,
        "_uuid": "b09e8a66ec221b996701b10f05856ebd1ba96d3a",
        "id": "fvBnoy7AVETS",
        "colab_type": "code",
        "colab": {}
      },
      "cell_type": "code",
      "source": [
        "def cut_to (x):\n",
        "    if x>=18 and x<25:\n",
        "        return \"18~25\"\n",
        "    elif x>=25 and x<40:\n",
        "        return \"25~40\"\n",
        "    elif x>=40 and x< 60:\n",
        "        return \"40~60\"\n",
        "    else:\n",
        "        return \">60\""
      ],
      "execution_count": 0,
      "outputs": []
    },
    {
      "metadata": {
        "trusted": true,
        "_uuid": "1749170e90b3ea6b6313971759209e21dac12cfb",
        "id": "mynQZABAVETT",
        "colab_type": "code",
        "outputId": "e006c60d-7f13-4184-ddec-a46ae06436dc",
        "colab": {
          "base_uri": "https://localhost:8080/",
          "height": 224
        }
      },
      "cell_type": "code",
      "source": [
        "one_hot_encoder_data['Group_age'] = one_hot_encoder_data['Age'].map(cut_to)\n",
        "# one_hot_encoder_data.head()"
      ],
      "execution_count": 18,
      "outputs": [
        {
          "output_type": "execute_result",
          "data": {
            "text/html": [
              "<div>\n",
              "<style scoped>\n",
              "    .dataframe tbody tr th:only-of-type {\n",
              "        vertical-align: middle;\n",
              "    }\n",
              "\n",
              "    .dataframe tbody tr th {\n",
              "        vertical-align: top;\n",
              "    }\n",
              "\n",
              "    .dataframe thead th {\n",
              "        text-align: right;\n",
              "    }\n",
              "</style>\n",
              "<table border=\"1\" class=\"dataframe\">\n",
              "  <thead>\n",
              "    <tr style=\"text-align: right;\">\n",
              "      <th></th>\n",
              "      <th>CreditScore</th>\n",
              "      <th>Age</th>\n",
              "      <th>Tenure</th>\n",
              "      <th>Balance</th>\n",
              "      <th>NumOfProducts</th>\n",
              "      <th>HasCrCard</th>\n",
              "      <th>IsActiveMember</th>\n",
              "      <th>EstimatedSalary</th>\n",
              "      <th>Exited</th>\n",
              "      <th>Geography_France</th>\n",
              "      <th>Geography_Germany</th>\n",
              "      <th>Geography_Spain</th>\n",
              "      <th>Gender_Female</th>\n",
              "      <th>Gender_Male</th>\n",
              "      <th>Group_age</th>\n",
              "    </tr>\n",
              "  </thead>\n",
              "  <tbody>\n",
              "    <tr>\n",
              "      <th>0</th>\n",
              "      <td>619</td>\n",
              "      <td>42</td>\n",
              "      <td>2</td>\n",
              "      <td>0.00</td>\n",
              "      <td>1</td>\n",
              "      <td>1</td>\n",
              "      <td>1</td>\n",
              "      <td>101348.88</td>\n",
              "      <td>1</td>\n",
              "      <td>1</td>\n",
              "      <td>0</td>\n",
              "      <td>0</td>\n",
              "      <td>1</td>\n",
              "      <td>0</td>\n",
              "      <td>40~60</td>\n",
              "    </tr>\n",
              "    <tr>\n",
              "      <th>1</th>\n",
              "      <td>608</td>\n",
              "      <td>41</td>\n",
              "      <td>1</td>\n",
              "      <td>83807.86</td>\n",
              "      <td>1</td>\n",
              "      <td>0</td>\n",
              "      <td>1</td>\n",
              "      <td>112542.58</td>\n",
              "      <td>0</td>\n",
              "      <td>0</td>\n",
              "      <td>0</td>\n",
              "      <td>1</td>\n",
              "      <td>1</td>\n",
              "      <td>0</td>\n",
              "      <td>40~60</td>\n",
              "    </tr>\n",
              "    <tr>\n",
              "      <th>2</th>\n",
              "      <td>502</td>\n",
              "      <td>42</td>\n",
              "      <td>8</td>\n",
              "      <td>159660.80</td>\n",
              "      <td>3</td>\n",
              "      <td>1</td>\n",
              "      <td>0</td>\n",
              "      <td>113931.57</td>\n",
              "      <td>1</td>\n",
              "      <td>1</td>\n",
              "      <td>0</td>\n",
              "      <td>0</td>\n",
              "      <td>1</td>\n",
              "      <td>0</td>\n",
              "      <td>40~60</td>\n",
              "    </tr>\n",
              "    <tr>\n",
              "      <th>3</th>\n",
              "      <td>699</td>\n",
              "      <td>39</td>\n",
              "      <td>1</td>\n",
              "      <td>0.00</td>\n",
              "      <td>2</td>\n",
              "      <td>0</td>\n",
              "      <td>0</td>\n",
              "      <td>93826.63</td>\n",
              "      <td>0</td>\n",
              "      <td>1</td>\n",
              "      <td>0</td>\n",
              "      <td>0</td>\n",
              "      <td>1</td>\n",
              "      <td>0</td>\n",
              "      <td>25~40</td>\n",
              "    </tr>\n",
              "    <tr>\n",
              "      <th>4</th>\n",
              "      <td>850</td>\n",
              "      <td>43</td>\n",
              "      <td>2</td>\n",
              "      <td>125510.82</td>\n",
              "      <td>1</td>\n",
              "      <td>1</td>\n",
              "      <td>1</td>\n",
              "      <td>79084.10</td>\n",
              "      <td>0</td>\n",
              "      <td>0</td>\n",
              "      <td>0</td>\n",
              "      <td>1</td>\n",
              "      <td>1</td>\n",
              "      <td>0</td>\n",
              "      <td>40~60</td>\n",
              "    </tr>\n",
              "  </tbody>\n",
              "</table>\n",
              "</div>"
            ],
            "text/plain": [
              "   CreditScore  Age  Tenure   Balance  NumOfProducts  HasCrCard  \\\n",
              "0          619   42       2      0.00              1          1   \n",
              "1          608   41       1  83807.86              1          0   \n",
              "2          502   42       8 159660.80              3          1   \n",
              "3          699   39       1      0.00              2          0   \n",
              "4          850   43       2 125510.82              1          1   \n",
              "\n",
              "   IsActiveMember  EstimatedSalary  Exited  Geography_France  \\\n",
              "0               1        101348.88       1                 1   \n",
              "1               1        112542.58       0                 0   \n",
              "2               0        113931.57       1                 1   \n",
              "3               0         93826.63       0                 1   \n",
              "4               1         79084.10       0                 0   \n",
              "\n",
              "   Geography_Germany  Geography_Spain  Gender_Female  Gender_Male Group_age  \n",
              "0                  0                0              1            0     40~60  \n",
              "1                  0                1              1            0     40~60  \n",
              "2                  0                0              1            0     40~60  \n",
              "3                  0                0              1            0     25~40  \n",
              "4                  0                1              1            0     40~60  "
            ]
          },
          "metadata": {
            "tags": []
          },
          "execution_count": 18
        }
      ]
    },
    {
      "metadata": {
        "trusted": true,
        "_uuid": "0633e7030ee3101d910071a619cd5b12acd0510b",
        "id": "XXH2vrHmVETV",
        "colab_type": "code",
        "outputId": "425f5c1f-b610-4b15-e9be-4af56536f075",
        "colab": {
          "base_uri": "https://localhost:8080/",
          "height": 294
        }
      },
      "cell_type": "code",
      "source": [
        "colors = ['#4D3425','#E4512B']\n",
        "ax = (one_hot_encoder_data['Group_age'].value_counts()*100.0 /len(one_hot_encoder_data)).plot(kind='bar',stacked = True, rot = 0, color = colors)\n",
        "ax.yaxis.set_major_formatter(mtick.PercentFormatter())\n",
        "ax.set_ylabel('% Customer')\n",
        "ax.set_xlabel('Age')\n",
        "ax.set_ylabel('% Customers')\n",
        "ax.set_title('Age Distribution')\n",
        "\n",
        "# create a list to collect the plt.patches data\n",
        "totals = []\n",
        "\n",
        "# find the values and append to list\n",
        "for i in ax.patches:\n",
        "    totals.append(i.get_width())\n",
        "\n",
        "# set individual bar lables using above list\n",
        "total = sum(totals)\n",
        "\n",
        "for i in ax.patches:\n",
        "    # get_width pulls left or right; get_y pushes up or down\n",
        "    ax.text(i.get_x()+.15, i.get_height()-3.5,'',\n",
        "            fontsize=12,\n",
        "            color='white',\n",
        "           weight = 'bold')"
      ],
      "execution_count": 20,
      "outputs": [
        {
          "output_type": "display_data",
          "data": {
            "image/png": "[encoded data removed]",
            "text/plain": [
              "<matplotlib.figure.Figure at 0x7f7f4ade1358>"
            ]
          },
          "metadata": {
            "tags": []
          }
        }
      ]
    },
    {
      "metadata": {
        "trusted": true,
        "_uuid": "62a1486d37c89206d15173357606b65f942523d5",
        "id": "OToHeLxBqSOq",
        "colab_type": "code",
        "colab": {}
      },
      "cell_type": "code",
      "source": [
        "group_data = one_hot_encoder_data.groupby(['Group_age','Exited']).count()\n",
        "group_data.reset_index(inplace=True)\n",
        "# group_data.head()"
      ],
      "execution_count": 0,
      "outputs": []
    },
    {
      "metadata": {
        "trusted": true,
        "_uuid": "3637d8d863765d59c4192e92715a303630d7de49",
        "id": "3SCWsjTPqSOs",
        "colab_type": "code",
        "outputId": "c25773f1-3593-42a5-afc2-2786f2d3e130",
        "colab": {
          "base_uri": "https://localhost:8080/",
          "height": 378
        }
      },
      "cell_type": "code",
      "source": [
        "sns.set(style=\"whitegrid\")\n",
        "ax = sns.barplot(x='Group_age', y='Age', \n",
        "                 hue='Exited',data=group_data)\n",
        "ax.set_ylabel('Num')\n"
      ],
      "execution_count": 23,
      "outputs": [
        {
          "output_type": "execute_result",
          "data": {
            "text/plain": [
              "Text(0,0.5,'Num')"
            ]
          },
          "metadata": {
            "tags": []
          },
          "execution_count": 23
        },
        {
          "output_type": "display_data",
          "data": {
            "image/png": "[encoded data removed]",
            "text/plain": [
              "<matplotlib.figure.Figure at 0x7f7f4add66d8>"
            ]
          },
          "metadata": {
            "tags": []
          }
        }
      ]
    },
    {
      "metadata": {
        "trusted": true,
        "_uuid": "798eb81c093a9547f245e1d2ccb3a492f2972351",
        "id": "faD3Wx-mVETb",
        "colab_type": "code",
        "outputId": "de8b34b8-0c38-41bb-ba2b-64fbe32f8d7a",
        "colab": {
          "base_uri": "https://localhost:8080/",
          "height": 224
        }
      },
      "cell_type": "code",
      "source": [
        "one_hot_encoder_data = one_hot_encoder_data.drop(columns=['Group_age'])\n",
        "one_hot_encoder_data.head()"
      ],
      "execution_count": 24,
      "outputs": [
        {
          "output_type": "execute_result",
          "data": {
            "text/html": [
              "<div>\n",
              "<style scoped>\n",
              "    .dataframe tbody tr th:only-of-type {\n",
              "        vertical-align: middle;\n",
              "    }\n",
              "\n",
              "    .dataframe tbody tr th {\n",
              "        vertical-align: top;\n",
              "    }\n",
              "\n",
              "    .dataframe thead th {\n",
              "        text-align: right;\n",
              "    }\n",
              "</style>\n",
              "<table border=\"1\" class=\"dataframe\">\n",
              "  <thead>\n",
              "    <tr style=\"text-align: right;\">\n",
              "      <th></th>\n",
              "      <th>CreditScore</th>\n",
              "      <th>Age</th>\n",
              "      <th>Tenure</th>\n",
              "      <th>Balance</th>\n",
              "      <th>NumOfProducts</th>\n",
              "      <th>HasCrCard</th>\n",
              "      <th>IsActiveMember</th>\n",
              "      <th>EstimatedSalary</th>\n",
              "      <th>Exited</th>\n",
              "      <th>Geography_France</th>\n",
              "      <th>Geography_Germany</th>\n",
              "      <th>Geography_Spain</th>\n",
              "      <th>Gender_Female</th>\n",
              "      <th>Gender_Male</th>\n",
              "    </tr>\n",
              "  </thead>\n",
              "  <tbody>\n",
              "    <tr>\n",
              "      <th>0</th>\n",
              "      <td>619</td>\n",
              "      <td>42</td>\n",
              "      <td>2</td>\n",
              "      <td>0.00</td>\n",
              "      <td>1</td>\n",
              "      <td>1</td>\n",
              "      <td>1</td>\n",
              "      <td>101348.88</td>\n",
              "      <td>1</td>\n",
              "      <td>1</td>\n",
              "      <td>0</td>\n",
              "      <td>0</td>\n",
              "      <td>1</td>\n",
              "      <td>0</td>\n",
              "    </tr>\n",
              "    <tr>\n",
              "      <th>1</th>\n",
              "      <td>608</td>\n",
              "      <td>41</td>\n",
              "      <td>1</td>\n",
              "      <td>83807.86</td>\n",
              "      <td>1</td>\n",
              "      <td>0</td>\n",
              "      <td>1</td>\n",
              "      <td>112542.58</td>\n",
              "      <td>0</td>\n",
              "      <td>0</td>\n",
              "      <td>0</td>\n",
              "      <td>1</td>\n",
              "      <td>1</td>\n",
              "      <td>0</td>\n",
              "    </tr>\n",
              "    <tr>\n",
              "      <th>2</th>\n",
              "      <td>502</td>\n",
              "      <td>42</td>\n",
              "      <td>8</td>\n",
              "      <td>159660.80</td>\n",
              "      <td>3</td>\n",
              "      <td>1</td>\n",
              "      <td>0</td>\n",
              "      <td>113931.57</td>\n",
              "      <td>1</td>\n",
              "      <td>1</td>\n",
              "      <td>0</td>\n",
              "      <td>0</td>\n",
              "      <td>1</td>\n",
              "      <td>0</td>\n",
              "    </tr>\n",
              "    <tr>\n",
              "      <th>3</th>\n",
              "      <td>699</td>\n",
              "      <td>39</td>\n",
              "      <td>1</td>\n",
              "      <td>0.00</td>\n",
              "      <td>2</td>\n",
              "      <td>0</td>\n",
              "      <td>0</td>\n",
              "      <td>93826.63</td>\n",
              "      <td>0</td>\n",
              "      <td>1</td>\n",
              "      <td>0</td>\n",
              "      <td>0</td>\n",
              "      <td>1</td>\n",
              "      <td>0</td>\n",
              "    </tr>\n",
              "    <tr>\n",
              "      <th>4</th>\n",
              "      <td>850</td>\n",
              "      <td>43</td>\n",
              "      <td>2</td>\n",
              "      <td>125510.82</td>\n",
              "      <td>1</td>\n",
              "      <td>1</td>\n",
              "      <td>1</td>\n",
              "      <td>79084.10</td>\n",
              "      <td>0</td>\n",
              "      <td>0</td>\n",
              "      <td>0</td>\n",
              "      <td>1</td>\n",
              "      <td>1</td>\n",
              "      <td>0</td>\n",
              "    </tr>\n",
              "  </tbody>\n",
              "</table>\n",
              "</div>"
            ],
            "text/plain": [
              "   CreditScore  Age  Tenure   Balance  NumOfProducts  HasCrCard  \\\n",
              "0          619   42       2      0.00              1          1   \n",
              "1          608   41       1  83807.86              1          0   \n",
              "2          502   42       8 159660.80              3          1   \n",
              "3          699   39       1      0.00              2          0   \n",
              "4          850   43       2 125510.82              1          1   \n",
              "\n",
              "   IsActiveMember  EstimatedSalary  Exited  Geography_France  \\\n",
              "0               1        101348.88       1                 1   \n",
              "1               1        112542.58       0                 0   \n",
              "2               0        113931.57       1                 1   \n",
              "3               0         93826.63       0                 1   \n",
              "4               1         79084.10       0                 0   \n",
              "\n",
              "   Geography_Germany  Geography_Spain  Gender_Female  Gender_Male  \n",
              "0                  0                0              1            0  \n",
              "1                  0                1              1            0  \n",
              "2                  0                0              1            0  \n",
              "3                  0                0              1            0  \n",
              "4                  0                1              1            0  "
            ]
          },
          "metadata": {
            "tags": []
          },
          "execution_count": 24
        }
      ]
    },
    {
      "metadata": {
        "_uuid": "7dd4b192f12336a760a7912d9367e250d80a5a3f",
        "id": "rFEADjelVETd",
        "colab_type": "text"
      },
      "cell_type": "markdown",
      "source": [
        "**%isActiveMember**  active and inactive members account almost half and half"
      ]
    },
    {
      "metadata": {
        "trusted": true,
        "_uuid": "202a727d2ef8b13c220def54a7ed70f58db019b2",
        "id": "_a5x4MgtVETd",
        "colab_type": "code",
        "outputId": "c25cf880-a8d2-4d37-f7ca-95d9e5f30654",
        "colab": {
          "base_uri": "https://localhost:8080/",
          "height": 335
        }
      },
      "cell_type": "code",
      "source": [
        "ax = (one_hot_encoder_data['IsActiveMember'].value_counts()*100.0 /len(one_hot_encoder_data)).plot.pie(autopct='%.1f%%', labels = ['Yes', 'No'],figsize =(5,5), fontsize = 12 )                                                                           \n",
        "ax.yaxis.set_major_formatter(mtick.PercentFormatter())\n",
        "ax.set_ylabel('ActiveMember',fontsize = 12)\n",
        "ax.set_title('% of ActiveMember', fontsize = 12)"
      ],
      "execution_count": 25,
      "outputs": [
        {
          "output_type": "execute_result",
          "data": {
            "text/plain": [
              "Text(0.5,1,'% of ActiveMember')"
            ]
          },
          "metadata": {
            "tags": []
          },
          "execution_count": 25
        },
        {
          "output_type": "display_data",
          "data": {
            "image/png": "[encoded data removed]",
            "text/plain": [
              "<matplotlib.figure.Figure at 0x7f7f4ad5ef60>"
            ]
          },
          "metadata": {
            "tags": []
          }
        }
      ]
    },
    {
      "metadata": {
        "_uuid": "bcc2f66f3af49e896e82932fe5ed5f7f92ab70bb",
        "id": "2ThDEUe3VETf",
        "colab_type": "text"
      },
      "cell_type": "markdown",
      "source": [
        "**Let's see area dimension**  - About 50% are France and Germany and Spain constitute half of rest of the space , respectively"
      ]
    },
    {
      "metadata": {
        "trusted": true,
        "_uuid": "c49f4a3f3b921157db3d8fbe51dc71866fe0be9d",
        "id": "DCkvtffEVETh",
        "colab_type": "code",
        "outputId": "cb1a6612-a993-4055-9400-0ea0e3014754",
        "colab": {
          "base_uri": "https://localhost:8080/",
          "height": 362
        }
      },
      "cell_type": "code",
      "source": [
        "colors = ['#4D3425','#E4512B']\n",
        "ax = (drop_data['Geography'].value_counts()*100.0 /len(drop_data)).plot(kind='bar',stacked = True, rot = 0, color = colors)\n",
        "ax.yaxis.set_major_formatter(mtick.PercentFormatter())\n",
        "ax.set_ylabel('% Customer')\n",
        "ax.set_title('Geography Distribution')\n",
        "\n",
        "# create a list to collect the plt.patches data\n",
        "totals = []\n",
        "\n",
        "# find the values and append to list\n",
        "for i in ax.patches:\n",
        "    totals.append(i.get_width())\n",
        "\n",
        "# set individual bar lables using above list\n",
        "total = sum(totals)\n",
        "\n",
        "for i in ax.patches:\n",
        "    # get_width pulls left or right; get_y pushes up or down\n",
        "    ax.text(i.get_x()+.15, i.get_height()-3.5,'',\n",
        "            fontsize=12,\n",
        "            color='white',\n",
        "           weight = 'bold')"
      ],
      "execution_count": 0,
      "outputs": [
        {
          "output_type": "display_data",
          "data": {
            "image/png": "[encoded data removed]",
            "text/plain": [
              "<matplotlib.figure.Figure at 0x7f61a513f550>"
            ]
          },
          "metadata": {
            "tags": []
          }
        }
      ]
    },
    {
      "metadata": {
        "trusted": true,
        "_uuid": "898fad4edc926437b4b2935f6629e8b21981e5e1",
        "id": "dY-RmDD-qSO5",
        "colab_type": "code",
        "outputId": "b042fd80-dca0-4f2e-de57-0848cc65a3cf",
        "colab": {
          "base_uri": "https://localhost:8080/",
          "height": 224
        }
      },
      "cell_type": "code",
      "source": [
        "group_data = drop_data.groupby(['Geography','Exited']).count()\n",
        "group_data.reset_index(inplace=True)\n",
        "group_data.head()"
      ],
      "execution_count": 0,
      "outputs": [
        {
          "output_type": "execute_result",
          "data": {
            "text/html": [
              "<div>\n",
              "<style scoped>\n",
              "    .dataframe tbody tr th:only-of-type {\n",
              "        vertical-align: middle;\n",
              "    }\n",
              "\n",
              "    .dataframe tbody tr th {\n",
              "        vertical-align: top;\n",
              "    }\n",
              "\n",
              "    .dataframe thead th {\n",
              "        text-align: right;\n",
              "    }\n",
              "</style>\n",
              "<table border=\"1\" class=\"dataframe\">\n",
              "  <thead>\n",
              "    <tr style=\"text-align: right;\">\n",
              "      <th></th>\n",
              "      <th>Geography</th>\n",
              "      <th>Exited</th>\n",
              "      <th>CreditScore</th>\n",
              "      <th>Gender</th>\n",
              "      <th>Age</th>\n",
              "      <th>Tenure</th>\n",
              "      <th>Balance</th>\n",
              "      <th>NumOfProducts</th>\n",
              "      <th>HasCrCard</th>\n",
              "      <th>IsActiveMember</th>\n",
              "      <th>EstimatedSalary</th>\n",
              "    </tr>\n",
              "  </thead>\n",
              "  <tbody>\n",
              "    <tr>\n",
              "      <th>0</th>\n",
              "      <td>France</td>\n",
              "      <td>0</td>\n",
              "      <td>4204</td>\n",
              "      <td>4204</td>\n",
              "      <td>4204</td>\n",
              "      <td>4204</td>\n",
              "      <td>4204</td>\n",
              "      <td>4204</td>\n",
              "      <td>4204</td>\n",
              "      <td>4204</td>\n",
              "      <td>4204</td>\n",
              "    </tr>\n",
              "    <tr>\n",
              "      <th>1</th>\n",
              "      <td>France</td>\n",
              "      <td>1</td>\n",
              "      <td>810</td>\n",
              "      <td>810</td>\n",
              "      <td>810</td>\n",
              "      <td>810</td>\n",
              "      <td>810</td>\n",
              "      <td>810</td>\n",
              "      <td>810</td>\n",
              "      <td>810</td>\n",
              "      <td>810</td>\n",
              "    </tr>\n",
              "    <tr>\n",
              "      <th>2</th>\n",
              "      <td>Germany</td>\n",
              "      <td>0</td>\n",
              "      <td>1695</td>\n",
              "      <td>1695</td>\n",
              "      <td>1695</td>\n",
              "      <td>1695</td>\n",
              "      <td>1695</td>\n",
              "      <td>1695</td>\n",
              "      <td>1695</td>\n",
              "      <td>1695</td>\n",
              "      <td>1695</td>\n",
              "    </tr>\n",
              "    <tr>\n",
              "      <th>3</th>\n",
              "      <td>Germany</td>\n",
              "      <td>1</td>\n",
              "      <td>814</td>\n",
              "      <td>814</td>\n",
              "      <td>814</td>\n",
              "      <td>814</td>\n",
              "      <td>814</td>\n",
              "      <td>814</td>\n",
              "      <td>814</td>\n",
              "      <td>814</td>\n",
              "      <td>814</td>\n",
              "    </tr>\n",
              "    <tr>\n",
              "      <th>4</th>\n",
              "      <td>Spain</td>\n",
              "      <td>0</td>\n",
              "      <td>2064</td>\n",
              "      <td>2064</td>\n",
              "      <td>2064</td>\n",
              "      <td>2064</td>\n",
              "      <td>2064</td>\n",
              "      <td>2064</td>\n",
              "      <td>2064</td>\n",
              "      <td>2064</td>\n",
              "      <td>2064</td>\n",
              "    </tr>\n",
              "  </tbody>\n",
              "</table>\n",
              "</div>"
            ],
            "text/plain": [
              "  Geography  Exited  CreditScore  Gender   Age  Tenure  Balance  \\\n",
              "0    France       0         4204    4204  4204    4204     4204   \n",
              "1    France       1          810     810   810     810      810   \n",
              "2   Germany       0         1695    1695  1695    1695     1695   \n",
              "3   Germany       1          814     814   814     814      814   \n",
              "4     Spain       0         2064    2064  2064    2064     2064   \n",
              "\n",
              "   NumOfProducts  HasCrCard  IsActiveMember  EstimatedSalary  \n",
              "0           4204       4204            4204             4204  \n",
              "1            810        810             810              810  \n",
              "2           1695       1695            1695             1695  \n",
              "3            814        814             814              814  \n",
              "4           2064       2064            2064             2064  "
            ]
          },
          "metadata": {
            "tags": []
          },
          "execution_count": 24
        }
      ]
    },
    {
      "metadata": {
        "trusted": true,
        "_uuid": "1374eafa9a191705c161939a0aa78d302f1844d9",
        "id": "jH8c2x5rqSO7",
        "colab_type": "code",
        "outputId": "fb16dd17-5fc0-4216-bdae-ccb68f5f47f9",
        "colab": {
          "base_uri": "https://localhost:8080/",
          "height": 378
        }
      },
      "cell_type": "code",
      "source": [
        "sns.set(style=\"whitegrid\")\n",
        "ax = sns.barplot(x='Geography', y='Age', \n",
        "                 hue='Exited',data=group_data)\n",
        "ax.set_ylabel('Num')"
      ],
      "execution_count": 0,
      "outputs": [
        {
          "output_type": "execute_result",
          "data": {
            "text/plain": [
              "Text(0,0.5,'Num')"
            ]
          },
          "metadata": {
            "tags": []
          },
          "execution_count": 25
        },
        {
          "output_type": "display_data",
          "data": {
            "image/png": "[encoded data removed]",
            "text/plain": [
              "<matplotlib.figure.Figure at 0x7f61a5131be0>"
            ]
          },
          "metadata": {
            "tags": []
          }
        }
      ]
    },
    {
      "metadata": {
        "_uuid": "9637b676e331c751bbf9d029b64e6b39710f708e",
        "id": "pZTqYRqFVETj",
        "colab_type": "text"
      },
      "cell_type": "markdown",
      "source": [
        "### Correlation of data"
      ]
    },
    {
      "metadata": {
        "trusted": true,
        "_uuid": "d4f13e6862d89c19e51cb928845894270f7d3b89",
        "id": "ugFa6RjIVETo",
        "colab_type": "code",
        "outputId": "04670849-4bd1-434f-a2a2-3f228160ddf5",
        "colab": {
          "base_uri": "https://localhost:8080/",
          "height": 803
        }
      },
      "cell_type": "code",
      "source": [
        "plt.subplots(figsize=(12,12))\n",
        "# sns.heatmap(corr)\n",
        "corr = one_hot_encoder_data.corr();\n",
        "sns.heatmap(corr, \n",
        "            xticklabels=corr.columns.values,\n",
        "            yticklabels=corr.columns.values)\n"
      ],
      "execution_count": 26,
      "outputs": [
        {
          "output_type": "execute_result",
          "data": {
            "text/plain": [
              "<matplotlib.axes._subplots.AxesSubplot at 0x7f7f4ac924e0>"
            ]
          },
          "metadata": {
            "tags": []
          },
          "execution_count": 26
        },
        {
          "output_type": "display_data",
          "data": {
            "image/png": "[encoded data removed]",
            "text/plain": [
              "<matplotlib.figure.Figure at 0x7f7f4ad15748>"
            ]
          },
          "metadata": {
            "tags": []
          }
        }
      ]
    },
    {
      "metadata": {
        "_uuid": "691ddbc77205ac5c695fd04c68f4a08e72be9d63",
        "id": "MyzNiOszVETq",
        "colab_type": "text"
      },
      "cell_type": "markdown",
      "source": [
        "** Finally Let's take a look at our predictor (Customer churn) **\n"
      ]
    },
    {
      "metadata": {
        "trusted": true,
        "_uuid": "a4bac057496c2efef02b224d98d4f020a4dac9f7",
        "id": "1LejpleIVETr",
        "colab_type": "code",
        "outputId": "b57b7a97-ac8a-4aaf-d18f-b2352894bf9a",
        "colab": {
          "base_uri": "https://localhost:8080/",
          "height": 224
        }
      },
      "cell_type": "code",
      "source": [
        "one_hot_encoder_data['exited'] = one_hot_encoder_data['Exited']\n",
        "one_hot_encoder_data = one_hot_encoder_data.drop(columns=['Exited'])\n",
        "one_hot_encoder_data.head()\n",
        "                          "
      ],
      "execution_count": 27,
      "outputs": [
        {
          "output_type": "execute_result",
          "data": {
            "text/html": [
              "<div>\n",
              "<style scoped>\n",
              "    .dataframe tbody tr th:only-of-type {\n",
              "        vertical-align: middle;\n",
              "    }\n",
              "\n",
              "    .dataframe tbody tr th {\n",
              "        vertical-align: top;\n",
              "    }\n",
              "\n",
              "    .dataframe thead th {\n",
              "        text-align: right;\n",
              "    }\n",
              "</style>\n",
              "<table border=\"1\" class=\"dataframe\">\n",
              "  <thead>\n",
              "    <tr style=\"text-align: right;\">\n",
              "      <th></th>\n",
              "      <th>CreditScore</th>\n",
              "      <th>Age</th>\n",
              "      <th>Tenure</th>\n",
              "      <th>Balance</th>\n",
              "      <th>NumOfProducts</th>\n",
              "      <th>HasCrCard</th>\n",
              "      <th>IsActiveMember</th>\n",
              "      <th>EstimatedSalary</th>\n",
              "      <th>Geography_France</th>\n",
              "      <th>Geography_Germany</th>\n",
              "      <th>Geography_Spain</th>\n",
              "      <th>Gender_Female</th>\n",
              "      <th>Gender_Male</th>\n",
              "      <th>exited</th>\n",
              "    </tr>\n",
              "  </thead>\n",
              "  <tbody>\n",
              "    <tr>\n",
              "      <th>0</th>\n",
              "      <td>619</td>\n",
              "      <td>42</td>\n",
              "      <td>2</td>\n",
              "      <td>0.00</td>\n",
              "      <td>1</td>\n",
              "      <td>1</td>\n",
              "      <td>1</td>\n",
              "      <td>101348.88</td>\n",
              "      <td>1</td>\n",
              "      <td>0</td>\n",
              "      <td>0</td>\n",
              "      <td>1</td>\n",
              "      <td>0</td>\n",
              "      <td>1</td>\n",
              "    </tr>\n",
              "    <tr>\n",
              "      <th>1</th>\n",
              "      <td>608</td>\n",
              "      <td>41</td>\n",
              "      <td>1</td>\n",
              "      <td>83807.86</td>\n",
              "      <td>1</td>\n",
              "      <td>0</td>\n",
              "      <td>1</td>\n",
              "      <td>112542.58</td>\n",
              "      <td>0</td>\n",
              "      <td>0</td>\n",
              "      <td>1</td>\n",
              "      <td>1</td>\n",
              "      <td>0</td>\n",
              "      <td>0</td>\n",
              "    </tr>\n",
              "    <tr>\n",
              "      <th>2</th>\n",
              "      <td>502</td>\n",
              "      <td>42</td>\n",
              "      <td>8</td>\n",
              "      <td>159660.80</td>\n",
              "      <td>3</td>\n",
              "      <td>1</td>\n",
              "      <td>0</td>\n",
              "      <td>113931.57</td>\n",
              "      <td>1</td>\n",
              "      <td>0</td>\n",
              "      <td>0</td>\n",
              "      <td>1</td>\n",
              "      <td>0</td>\n",
              "      <td>1</td>\n",
              "    </tr>\n",
              "    <tr>\n",
              "      <th>3</th>\n",
              "      <td>699</td>\n",
              "      <td>39</td>\n",
              "      <td>1</td>\n",
              "      <td>0.00</td>\n",
              "      <td>2</td>\n",
              "      <td>0</td>\n",
              "      <td>0</td>\n",
              "      <td>93826.63</td>\n",
              "      <td>1</td>\n",
              "      <td>0</td>\n",
              "      <td>0</td>\n",
              "      <td>1</td>\n",
              "      <td>0</td>\n",
              "      <td>0</td>\n",
              "    </tr>\n",
              "    <tr>\n",
              "      <th>4</th>\n",
              "      <td>850</td>\n",
              "      <td>43</td>\n",
              "      <td>2</td>\n",
              "      <td>125510.82</td>\n",
              "      <td>1</td>\n",
              "      <td>1</td>\n",
              "      <td>1</td>\n",
              "      <td>79084.10</td>\n",
              "      <td>0</td>\n",
              "      <td>0</td>\n",
              "      <td>1</td>\n",
              "      <td>1</td>\n",
              "      <td>0</td>\n",
              "      <td>0</td>\n",
              "    </tr>\n",
              "  </tbody>\n",
              "</table>\n",
              "</div>"
            ],
            "text/plain": [
              "   CreditScore  Age  Tenure   Balance  NumOfProducts  HasCrCard  \\\n",
              "0          619   42       2      0.00              1          1   \n",
              "1          608   41       1  83807.86              1          0   \n",
              "2          502   42       8 159660.80              3          1   \n",
              "3          699   39       1      0.00              2          0   \n",
              "4          850   43       2 125510.82              1          1   \n",
              "\n",
              "   IsActiveMember  EstimatedSalary  Geography_France  Geography_Germany  \\\n",
              "0               1        101348.88                 1                  0   \n",
              "1               1        112542.58                 0                  0   \n",
              "2               0        113931.57                 1                  0   \n",
              "3               0         93826.63                 1                  0   \n",
              "4               1         79084.10                 0                  0   \n",
              "\n",
              "   Geography_Spain  Gender_Female  Gender_Male  exited  \n",
              "0                0              1            0       1  \n",
              "1                1              1            0       0  \n",
              "2                0              1            0       1  \n",
              "3                0              1            0       0  \n",
              "4                1              1            0       0  "
            ]
          },
          "metadata": {
            "tags": []
          },
          "execution_count": 27
        }
      ]
    },
    {
      "metadata": {
        "trusted": true,
        "_uuid": "a7c2eca1368406513833e983f2976a55f37cf7e6",
        "id": "pgRQHVqFVETt",
        "colab_type": "code",
        "colab": {}
      },
      "cell_type": "code",
      "source": [
        "X = one_hot_encoder_data.iloc[:,:-1].values # Credit Score through Estimated Salary\n",
        "Y = one_hot_encoder_data.iloc[:, -1].values # Exited"
      ],
      "execution_count": 0,
      "outputs": []
    },
    {
      "metadata": {
        "trusted": true,
        "_uuid": "e1152773e568d3fe68e6761dc9a75a71e6cb7232",
        "id": "qEafB5tfVETv",
        "colab_type": "code",
        "colab": {}
      },
      "cell_type": "code",
      "source": [
        "\n",
        "from sklearn.model_selection import train_test_split\n",
        "X_train, X_test, Y_train, Y_test = train_test_split(X,Y, test_size = 0.2, random_state = 13)"
      ],
      "execution_count": 0,
      "outputs": []
    },
    {
      "metadata": {
        "trusted": true,
        "_uuid": "6e72a523d37b3d6e5358c84b74c167beda3ece97",
        "id": "M6fLL3PlVETy",
        "colab_type": "code",
        "colab": {}
      },
      "cell_type": "code",
      "source": [
        "from sklearn.preprocessing import StandardScaler\n",
        "from sklearn import preprocessing\n",
        "sc=StandardScaler()\n",
        "# lb=preprocessing.LabelEncoder()\n",
        "X_train = sc.fit_transform(X_train)\n",
        "X_test = sc.transform(X_test)"
      ],
      "execution_count": 0,
      "outputs": []
    },
    {
      "metadata": {
        "id": "nMhf8wu0k_bD",
        "colab_type": "text"
      },
      "cell_type": "markdown",
      "source": [
        "## Logistic Regression\n"
      ]
    },
    {
      "metadata": {
        "id": "t1dPzVFhnuie",
        "colab_type": "text"
      },
      "cell_type": "markdown",
      "source": [
        "**Process Imbalanced Data with SMOTE**"
      ]
    },
    {
      "metadata": {
        "id": "10uHym87nIgf",
        "colab_type": "code",
        "colab": {}
      },
      "cell_type": "code",
      "source": [
        "from imblearn.over_sampling import SMOTE\n",
        "sm = SMOTE(kind = \"regular\")\n",
        "X_tr,Y_tr = sm.fit_sample(X_train,Y_train)"
      ],
      "execution_count": 0,
      "outputs": []
    },
    {
      "metadata": {
        "id": "kzNzl9ebiojv",
        "colab_type": "code",
        "outputId": "0be1f295-9872-41af-d293-b7cd6fda18dc",
        "trusted": true,
        "_uuid": "006897998a1923ffaadfac8ee6134c3209b3f945",
        "colab": {
          "base_uri": "https://localhost:8080/",
          "height": 85
        }
      },
      "cell_type": "code",
      "source": [
        "from sklearn.linear_model import LogisticRegression\n",
        "# \n",
        "classifier = LogisticRegression()\n",
        "classifier.fit(X_tr, Y_tr)"
      ],
      "execution_count": 55,
      "outputs": [
        {
          "output_type": "execute_result",
          "data": {
            "text/plain": [
              "LogisticRegression(C=1.0, class_weight=None, dual=False, fit_intercept=True,\n",
              "          intercept_scaling=1, max_iter=100, multi_class='warn',\n",
              "          n_jobs=None, penalty='l2', random_state=None, solver='warn',\n",
              "          tol=0.0001, verbose=0, warm_start=False)"
            ]
          },
          "metadata": {
            "tags": []
          },
          "execution_count": 55
        }
      ]
    },
    {
      "metadata": {
        "id": "Xl9D87_Bi0Sr",
        "colab_type": "code",
        "outputId": "0c758454-35a0-4ad7-84ae-5a89b1d061c5",
        "trusted": true,
        "_uuid": "cf5a5ed395431b3897471b33229725d7637cb1a0",
        "colab": {
          "base_uri": "https://localhost:8080/",
          "height": 34
        }
      },
      "cell_type": "code",
      "source": [
        "y_pred = classifier.predict(X_test)\n",
        "y_pred"
      ],
      "execution_count": 56,
      "outputs": [
        {
          "output_type": "execute_result",
          "data": {
            "text/plain": [
              "array([1, 1, 0, ..., 0, 0, 1])"
            ]
          },
          "metadata": {
            "tags": []
          },
          "execution_count": 56
        }
      ]
    },
    {
      "metadata": {
        "id": "waWEuNRfjCWx",
        "colab_type": "code",
        "outputId": "b2ae6a8c-ea48-40c9-9c54-600ac312ea6b",
        "trusted": true,
        "_uuid": "16e58c59991715b606a66c2d2962cd9c7fb6eaf9",
        "colab": {
          "base_uri": "https://localhost:8080/",
          "height": 34
        }
      },
      "cell_type": "code",
      "source": [
        "from sklearn.metrics import confusion_matrix\n",
        "matrix = confusion_matrix(Y_test, y_pred)\n",
        "print(\"Our accuracy is {}%\".format(((matrix[0][0] + matrix[1][1])/(matrix[0][0] + matrix[0][1] +  matrix[1][0] +matrix[1][1]))*100))"
      ],
      "execution_count": 57,
      "outputs": [
        {
          "output_type": "stream",
          "text": [
            "Our accuracy is 71.2%\n"
          ],
          "name": "stdout"
        }
      ]
    },
    {
      "metadata": {
        "id": "yDdp2GdLqOjN",
        "colab_type": "text"
      },
      "cell_type": "markdown",
      "source": [
        "## ANN\n"
      ]
    },
    {
      "metadata": {
        "id": "1wnKs4B-qPKa",
        "colab_type": "code",
        "colab": {}
      },
      "cell_type": "code",
      "source": [
        "import keras #\n",
        "from keras.models import Sequential\n",
        "from keras.layers import Dense"
      ],
      "execution_count": 0,
      "outputs": []
    },
    {
      "metadata": {
        "id": "TBvFc7kCqc2s",
        "colab_type": "code",
        "colab": {}
      },
      "cell_type": "code",
      "source": [
        "from sklearn.utils import shuffle\n",
        "# one_hot_encoder_data = shuffle(one_hot_encoder_data)\n",
        "X = one_hot_encoder_data.iloc[:,:-1].values # Credit Score through Estimated Salary\n",
        "Y = one_hot_encoder_data.iloc[:, -1].values # Exited\n",
        "from sklearn.model_selection import train_test_split\n",
        "\n",
        "\n",
        "X_train, X_test, Y_train, Y_test = train_test_split(X,Y, test_size = 0.2, random_state = 30)\n",
        "from sklearn.preprocessing import StandardScaler\n",
        "sc=StandardScaler()\n",
        "X_train = sc.fit_transform(X_train)\n",
        "X_test = sc.transform(X_test)\n",
        "\n",
        "from imblearn.over_sampling import SMOTE\n",
        "sm = SMOTE(kind = \"regular\")\n",
        "X_tr,Y_tr = sm.fit_sample(X_train,Y_train)"
      ],
      "execution_count": 0,
      "outputs": []
    },
    {
      "metadata": {
        "id": "kd5YOYBDqgWS",
        "colab_type": "code",
        "colab": {}
      },
      "cell_type": "code",
      "source": [
        "classifier = Sequential()\n",
        "# This adds the input layer (by specifying input dimension) AND the first hidden layer (units)\n",
        "classifier.add(Dense(activation = 'relu', input_dim = 13 , units=20, kernel_initializer='uniform'))"
      ],
      "execution_count": 0,
      "outputs": []
    },
    {
      "metadata": {
        "id": "tx3Pb80FqjCT",
        "colab_type": "code",
        "colab": {}
      },
      "cell_type": "code",
      "source": [
        "# Adding the second hidden layer\n",
        "# Notice that we do not need to specify input dim. \n",
        "classifier.add(Dense(activation = 'relu', units=20, kernel_initializer='uniform')) \n",
        "classifier.add(Dense(activation = 'relu', units=25, kernel_initializer='uniform'))\n",
        "classifier.add(Dense(activation = 'relu', units=30, kernel_initializer='uniform'))\n",
        "# # classifier.add(Dense(activation = 'relu', units=40, kernel_initializer='uniform'))\n",
        "# classifier.add(Dense(activation = 'relu', units=44, kernel_initializer='uniform'))\n",
        "# # classifier.add(Dense(activation = 'relu', units=30, kernel_initializer='uniform'))\n",
        "# classifier.add(Dense(activation = 'relu', units=40, kernel_initializer='uniform')) \n"
      ],
      "execution_count": 0,
      "outputs": []
    },
    {
      "metadata": {
        "id": "0oIXhKnqqmbV",
        "colab_type": "code",
        "colab": {}
      },
      "cell_type": "code",
      "source": [
        "classifier.add(Dense(activation = 'sigmoid', units=1, kernel_initializer='uniform')) "
      ],
      "execution_count": 0,
      "outputs": []
    },
    {
      "metadata": {
        "id": "AHMetoG0qqMx",
        "colab_type": "code",
        "colab": {}
      },
      "cell_type": "code",
      "source": [
        "classifier.compile(optimizer='adam', loss = 'binary_crossentropy', metrics=['accuracy'])"
      ],
      "execution_count": 0,
      "outputs": []
    },
    {
      "metadata": {
        "id": "M2LbIoo2qtYx",
        "colab_type": "code",
        "colab": {
          "base_uri": "https://localhost:8080/",
          "height": 10234
        },
        "outputId": "05b6178e-a971-4862-e768-ff02b3a0bf5c"
      },
      "cell_type": "code",
      "source": [
        "classifier.fit(X_tr, Y_tr, batch_size=25, epochs=300)"
      ],
      "execution_count": 123,
      "outputs": [
        {
          "output_type": "stream",
          "text": [
            "Epoch 1/300\n",
            "12680/12680 [==============================] - 1s 81us/step - loss: 0.5577 - acc: 0.7166\n",
            "Epoch 2/300\n",
            "12680/12680 [==============================] - 1s 53us/step - loss: 0.4629 - acc: 0.7761\n",
            "Epoch 3/300\n",
            "12680/12680 [==============================] - 1s 52us/step - loss: 0.4550 - acc: 0.7799\n",
            "Epoch 4/300\n",
            "12680/12680 [==============================] - 1s 50us/step - loss: 0.4502 - acc: 0.7842\n",
            "Epoch 5/300\n",
            "12680/12680 [==============================] - 1s 50us/step - loss: 0.4461 - acc: 0.7878\n",
            "Epoch 6/300\n",
            "12680/12680 [==============================] - 1s 50us/step - loss: 0.4429 - acc: 0.7849\n",
            "Epoch 7/300\n",
            "12680/12680 [==============================] - 1s 50us/step - loss: 0.4388 - acc: 0.7909\n",
            "Epoch 8/300\n",
            "12680/12680 [==============================] - 1s 50us/step - loss: 0.4345 - acc: 0.7916\n",
            "Epoch 9/300\n",
            "12680/12680 [==============================] - 1s 49us/step - loss: 0.4320 - acc: 0.7936\n",
            "Epoch 10/300\n",
            "12680/12680 [==============================] - 1s 50us/step - loss: 0.4318 - acc: 0.7951\n",
            "Epoch 11/300\n",
            "12680/12680 [==============================] - 1s 50us/step - loss: 0.4304 - acc: 0.7979\n",
            "Epoch 12/300\n",
            "12680/12680 [==============================] - 1s 50us/step - loss: 0.4282 - acc: 0.7987\n",
            "Epoch 13/300\n",
            "12680/12680 [==============================] - 1s 50us/step - loss: 0.4248 - acc: 0.8014\n",
            "Epoch 14/300\n",
            "12680/12680 [==============================] - 1s 50us/step - loss: 0.4247 - acc: 0.8006\n",
            "Epoch 15/300\n",
            "12680/12680 [==============================] - 1s 50us/step - loss: 0.4201 - acc: 0.8043\n",
            "Epoch 16/300\n",
            "12680/12680 [==============================] - 1s 50us/step - loss: 0.4205 - acc: 0.8054\n",
            "Epoch 17/300\n",
            "12680/12680 [==============================] - 1s 50us/step - loss: 0.4174 - acc: 0.8065\n",
            "Epoch 18/300\n",
            "12680/12680 [==============================] - 1s 50us/step - loss: 0.4155 - acc: 0.8063\n",
            "Epoch 19/300\n",
            "12680/12680 [==============================] - 1s 50us/step - loss: 0.4133 - acc: 0.8088\n",
            "Epoch 20/300\n",
            "12680/12680 [==============================] - 1s 50us/step - loss: 0.4138 - acc: 0.8080\n",
            "Epoch 21/300\n",
            "12680/12680 [==============================] - 1s 50us/step - loss: 0.4118 - acc: 0.8089\n",
            "Epoch 22/300\n",
            "12680/12680 [==============================] - 1s 50us/step - loss: 0.4096 - acc: 0.8114\n",
            "Epoch 23/300\n",
            "12680/12680 [==============================] - 1s 50us/step - loss: 0.4081 - acc: 0.8137\n",
            "Epoch 24/300\n",
            "12680/12680 [==============================] - 1s 50us/step - loss: 0.4066 - acc: 0.8129\n",
            "Epoch 25/300\n",
            "12680/12680 [==============================] - 1s 51us/step - loss: 0.4062 - acc: 0.8129\n",
            "Epoch 26/300\n",
            "12680/12680 [==============================] - 1s 50us/step - loss: 0.4054 - acc: 0.8148\n",
            "Epoch 27/300\n",
            "12680/12680 [==============================] - 1s 51us/step - loss: 0.4036 - acc: 0.8156\n",
            "Epoch 28/300\n",
            "12680/12680 [==============================] - 1s 49us/step - loss: 0.4006 - acc: 0.8171\n",
            "Epoch 29/300\n",
            "12680/12680 [==============================] - 1s 51us/step - loss: 0.4013 - acc: 0.8148\n",
            "Epoch 30/300\n",
            "12680/12680 [==============================] - 1s 49us/step - loss: 0.4005 - acc: 0.8148\n",
            "Epoch 31/300\n",
            "12680/12680 [==============================] - 1s 49us/step - loss: 0.3968 - acc: 0.8202\n",
            "Epoch 32/300\n",
            "12680/12680 [==============================] - 1s 49us/step - loss: 0.3974 - acc: 0.8188\n",
            "Epoch 33/300\n",
            "12680/12680 [==============================] - 1s 51us/step - loss: 0.3945 - acc: 0.8226\n",
            "Epoch 34/300\n",
            "12680/12680 [==============================] - 1s 50us/step - loss: 0.3931 - acc: 0.8199\n",
            "Epoch 35/300\n",
            "12680/12680 [==============================] - 1s 50us/step - loss: 0.3944 - acc: 0.8188\n",
            "Epoch 36/300\n",
            "12680/12680 [==============================] - 1s 50us/step - loss: 0.3922 - acc: 0.8201\n",
            "Epoch 37/300\n",
            "12680/12680 [==============================] - 1s 51us/step - loss: 0.3905 - acc: 0.8221\n",
            "Epoch 38/300\n",
            "12680/12680 [==============================] - 1s 49us/step - loss: 0.3919 - acc: 0.8233\n",
            "Epoch 39/300\n",
            "12680/12680 [==============================] - 1s 50us/step - loss: 0.3874 - acc: 0.8226\n",
            "Epoch 40/300\n",
            "12680/12680 [==============================] - 1s 50us/step - loss: 0.3864 - acc: 0.8208\n",
            "Epoch 41/300\n",
            "12680/12680 [==============================] - 1s 50us/step - loss: 0.3859 - acc: 0.8251\n",
            "Epoch 42/300\n",
            "12680/12680 [==============================] - 1s 50us/step - loss: 0.3841 - acc: 0.8245\n",
            "Epoch 43/300\n",
            "12680/12680 [==============================] - 1s 51us/step - loss: 0.3830 - acc: 0.8265\n",
            "Epoch 44/300\n",
            "12680/12680 [==============================] - 1s 50us/step - loss: 0.3822 - acc: 0.8300\n",
            "Epoch 45/300\n",
            "12680/12680 [==============================] - 1s 49us/step - loss: 0.3821 - acc: 0.8267\n",
            "Epoch 46/300\n",
            "12680/12680 [==============================] - 1s 50us/step - loss: 0.3802 - acc: 0.8297\n",
            "Epoch 47/300\n",
            "12680/12680 [==============================] - 1s 50us/step - loss: 0.3778 - acc: 0.8334\n",
            "Epoch 48/300\n",
            "12680/12680 [==============================] - 1s 50us/step - loss: 0.3788 - acc: 0.8282\n",
            "Epoch 49/300\n",
            "12680/12680 [==============================] - 1s 50us/step - loss: 0.3763 - acc: 0.8304\n",
            "Epoch 50/300\n",
            "12680/12680 [==============================] - 1s 50us/step - loss: 0.3759 - acc: 0.8330\n",
            "Epoch 51/300\n",
            "12680/12680 [==============================] - 1s 50us/step - loss: 0.3747 - acc: 0.8310\n",
            "Epoch 52/300\n",
            "12680/12680 [==============================] - 1s 50us/step - loss: 0.3717 - acc: 0.8330\n",
            "Epoch 53/300\n",
            "12680/12680 [==============================] - 1s 49us/step - loss: 0.3738 - acc: 0.8321\n",
            "Epoch 54/300\n",
            "12680/12680 [==============================] - 1s 49us/step - loss: 0.3717 - acc: 0.8336\n",
            "Epoch 55/300\n",
            "12680/12680 [==============================] - 1s 51us/step - loss: 0.3699 - acc: 0.8347\n",
            "Epoch 56/300\n",
            "12680/12680 [==============================] - 1s 50us/step - loss: 0.3691 - acc: 0.8351\n",
            "Epoch 57/300\n",
            "12680/12680 [==============================] - 1s 50us/step - loss: 0.3706 - acc: 0.8315\n",
            "Epoch 58/300\n",
            "12680/12680 [==============================] - 1s 50us/step - loss: 0.3673 - acc: 0.8335\n",
            "Epoch 59/300\n",
            "12680/12680 [==============================] - 1s 51us/step - loss: 0.3686 - acc: 0.8349\n",
            "Epoch 60/300\n",
            "12680/12680 [==============================] - 1s 50us/step - loss: 0.3662 - acc: 0.8365\n",
            "Epoch 61/300\n",
            "12680/12680 [==============================] - 1s 50us/step - loss: 0.3639 - acc: 0.8380\n",
            "Epoch 62/300\n",
            "12680/12680 [==============================] - 1s 50us/step - loss: 0.3626 - acc: 0.8390\n",
            "Epoch 63/300\n",
            "12680/12680 [==============================] - 1s 50us/step - loss: 0.3654 - acc: 0.8366\n",
            "Epoch 64/300\n",
            "12680/12680 [==============================] - 1s 50us/step - loss: 0.3638 - acc: 0.8372\n",
            "Epoch 65/300\n",
            "12680/12680 [==============================] - 1s 50us/step - loss: 0.3619 - acc: 0.8401\n",
            "Epoch 66/300\n",
            "12680/12680 [==============================] - 1s 50us/step - loss: 0.3605 - acc: 0.8384\n",
            "Epoch 67/300\n",
            "12680/12680 [==============================] - 1s 50us/step - loss: 0.3621 - acc: 0.8373\n",
            "Epoch 68/300\n",
            "12680/12680 [==============================] - 1s 50us/step - loss: 0.3587 - acc: 0.8408\n",
            "Epoch 69/300\n",
            "12680/12680 [==============================] - 1s 50us/step - loss: 0.3569 - acc: 0.8396\n",
            "Epoch 70/300\n",
            "12680/12680 [==============================] - 1s 50us/step - loss: 0.3570 - acc: 0.8398\n",
            "Epoch 71/300\n",
            "12680/12680 [==============================] - 1s 50us/step - loss: 0.3584 - acc: 0.8424\n",
            "Epoch 72/300\n",
            "12680/12680 [==============================] - 1s 49us/step - loss: 0.3566 - acc: 0.8405\n",
            "Epoch 73/300\n",
            "12680/12680 [==============================] - 1s 50us/step - loss: 0.3543 - acc: 0.8422\n",
            "Epoch 74/300\n",
            "12680/12680 [==============================] - 1s 50us/step - loss: 0.3532 - acc: 0.8431\n",
            "Epoch 75/300\n",
            "12680/12680 [==============================] - 1s 50us/step - loss: 0.3516 - acc: 0.8438\n",
            "Epoch 76/300\n",
            "12680/12680 [==============================] - 1s 50us/step - loss: 0.3518 - acc: 0.8432\n",
            "Epoch 77/300\n",
            "12680/12680 [==============================] - 1s 50us/step - loss: 0.3525 - acc: 0.8436\n",
            "Epoch 78/300\n",
            "12680/12680 [==============================] - 1s 49us/step - loss: 0.3524 - acc: 0.8448\n",
            "Epoch 79/300\n",
            "12680/12680 [==============================] - 1s 50us/step - loss: 0.3497 - acc: 0.8440\n",
            "Epoch 80/300\n",
            "12680/12680 [==============================] - 1s 50us/step - loss: 0.3488 - acc: 0.8461\n",
            "Epoch 81/300\n",
            "12680/12680 [==============================] - 1s 51us/step - loss: 0.3488 - acc: 0.8457\n",
            "Epoch 82/300\n",
            "12680/12680 [==============================] - 1s 51us/step - loss: 0.3487 - acc: 0.8438\n",
            "Epoch 83/300\n",
            "12680/12680 [==============================] - 1s 50us/step - loss: 0.3482 - acc: 0.8432\n",
            "Epoch 84/300\n",
            "12680/12680 [==============================] - 1s 50us/step - loss: 0.3464 - acc: 0.8472\n",
            "Epoch 85/300\n",
            "12680/12680 [==============================] - 1s 50us/step - loss: 0.3465 - acc: 0.8468\n",
            "Epoch 86/300\n",
            "12680/12680 [==============================] - 1s 50us/step - loss: 0.3489 - acc: 0.8444\n",
            "Epoch 87/300\n",
            "12680/12680 [==============================] - 1s 50us/step - loss: 0.3443 - acc: 0.8478\n",
            "Epoch 88/300\n",
            "12680/12680 [==============================] - 1s 50us/step - loss: 0.3447 - acc: 0.8476\n",
            "Epoch 89/300\n",
            "12680/12680 [==============================] - 1s 50us/step - loss: 0.3426 - acc: 0.8461\n",
            "Epoch 90/300\n",
            "12680/12680 [==============================] - 1s 50us/step - loss: 0.3423 - acc: 0.8483\n",
            "Epoch 91/300\n",
            "12680/12680 [==============================] - 1s 50us/step - loss: 0.3437 - acc: 0.8477\n",
            "Epoch 92/300\n",
            "12680/12680 [==============================] - 1s 51us/step - loss: 0.3422 - acc: 0.8484\n",
            "Epoch 93/300\n",
            "12680/12680 [==============================] - 1s 50us/step - loss: 0.3425 - acc: 0.8492\n",
            "Epoch 94/300\n",
            "12680/12680 [==============================] - 1s 50us/step - loss: 0.3424 - acc: 0.8481\n",
            "Epoch 95/300\n",
            "12680/12680 [==============================] - 1s 51us/step - loss: 0.3413 - acc: 0.8465\n",
            "Epoch 96/300\n",
            "12680/12680 [==============================] - 1s 50us/step - loss: 0.3405 - acc: 0.8491\n",
            "Epoch 97/300\n",
            "12680/12680 [==============================] - 1s 50us/step - loss: 0.3374 - acc: 0.8484\n",
            "Epoch 98/300\n",
            "12680/12680 [==============================] - 1s 50us/step - loss: 0.3382 - acc: 0.8495\n",
            "Epoch 99/300\n",
            "12680/12680 [==============================] - 1s 50us/step - loss: 0.3393 - acc: 0.8497\n",
            "Epoch 100/300\n",
            "12680/12680 [==============================] - 1s 51us/step - loss: 0.3358 - acc: 0.8484\n",
            "Epoch 101/300\n",
            "12680/12680 [==============================] - 1s 50us/step - loss: 0.3357 - acc: 0.8511\n",
            "Epoch 102/300\n",
            "12680/12680 [==============================] - 1s 49us/step - loss: 0.3364 - acc: 0.8518\n",
            "Epoch 103/300\n",
            "12680/12680 [==============================] - 1s 49us/step - loss: 0.3378 - acc: 0.8472\n",
            "Epoch 104/300\n",
            "12680/12680 [==============================] - 1s 50us/step - loss: 0.3357 - acc: 0.8492\n",
            "Epoch 105/300\n",
            "12680/12680 [==============================] - 1s 50us/step - loss: 0.3342 - acc: 0.8509\n",
            "Epoch 106/300\n",
            "12680/12680 [==============================] - 1s 50us/step - loss: 0.3332 - acc: 0.8525\n",
            "Epoch 107/300\n",
            "12680/12680 [==============================] - 1s 50us/step - loss: 0.3349 - acc: 0.8482\n",
            "Epoch 108/300\n",
            "12680/12680 [==============================] - 1s 50us/step - loss: 0.3336 - acc: 0.8507\n",
            "Epoch 109/300\n",
            "12680/12680 [==============================] - 1s 50us/step - loss: 0.3306 - acc: 0.8550\n",
            "Epoch 110/300\n",
            "12680/12680 [==============================] - 1s 50us/step - loss: 0.3328 - acc: 0.8534\n",
            "Epoch 111/300\n",
            "12680/12680 [==============================] - 1s 52us/step - loss: 0.3307 - acc: 0.8525\n",
            "Epoch 112/300\n",
            "12680/12680 [==============================] - 1s 50us/step - loss: 0.3315 - acc: 0.8536\n",
            "Epoch 113/300\n",
            "12680/12680 [==============================] - 1s 50us/step - loss: 0.3302 - acc: 0.8557\n",
            "Epoch 114/300\n",
            "12680/12680 [==============================] - 1s 50us/step - loss: 0.3298 - acc: 0.8534\n",
            "Epoch 115/300\n",
            "12680/12680 [==============================] - 1s 50us/step - loss: 0.3277 - acc: 0.8567\n",
            "Epoch 116/300\n",
            "12680/12680 [==============================] - 1s 49us/step - loss: 0.3272 - acc: 0.8553\n",
            "Epoch 117/300\n",
            "12680/12680 [==============================] - 1s 50us/step - loss: 0.3263 - acc: 0.8563\n",
            "Epoch 118/300\n",
            "12680/12680 [==============================] - 1s 50us/step - loss: 0.3234 - acc: 0.8550\n",
            "Epoch 119/300\n",
            "12680/12680 [==============================] - 1s 50us/step - loss: 0.3267 - acc: 0.8568\n",
            "Epoch 120/300\n",
            "12680/12680 [==============================] - 1s 50us/step - loss: 0.3285 - acc: 0.8547\n",
            "Epoch 121/300\n",
            "12680/12680 [==============================] - 1s 49us/step - loss: 0.3246 - acc: 0.8558\n",
            "Epoch 122/300\n",
            "12680/12680 [==============================] - 1s 50us/step - loss: 0.3250 - acc: 0.8553\n",
            "Epoch 123/300\n",
            "12680/12680 [==============================] - 1s 50us/step - loss: 0.3263 - acc: 0.8569\n",
            "Epoch 124/300\n",
            "12680/12680 [==============================] - 1s 51us/step - loss: 0.3229 - acc: 0.8587\n",
            "Epoch 125/300\n",
            "12680/12680 [==============================] - 1s 50us/step - loss: 0.3234 - acc: 0.8577\n",
            "Epoch 126/300\n",
            "12680/12680 [==============================] - 1s 50us/step - loss: 0.3222 - acc: 0.8565\n",
            "Epoch 127/300\n",
            "12680/12680 [==============================] - 1s 50us/step - loss: 0.3212 - acc: 0.8563\n",
            "Epoch 128/300\n",
            "12680/12680 [==============================] - 1s 50us/step - loss: 0.3217 - acc: 0.8570\n",
            "Epoch 129/300\n",
            "12680/12680 [==============================] - 1s 50us/step - loss: 0.3189 - acc: 0.8580\n",
            "Epoch 130/300\n",
            "12680/12680 [==============================] - 1s 50us/step - loss: 0.3198 - acc: 0.8584\n",
            "Epoch 131/300\n",
            "12680/12680 [==============================] - 1s 50us/step - loss: 0.3205 - acc: 0.8581\n",
            "Epoch 132/300\n",
            "12680/12680 [==============================] - 1s 50us/step - loss: 0.3197 - acc: 0.8603\n",
            "Epoch 133/300\n",
            "12680/12680 [==============================] - 1s 50us/step - loss: 0.3180 - acc: 0.8584\n",
            "Epoch 134/300\n",
            "12680/12680 [==============================] - 1s 49us/step - loss: 0.3191 - acc: 0.8577\n",
            "Epoch 135/300\n",
            "12680/12680 [==============================] - 1s 50us/step - loss: 0.3178 - acc: 0.8589\n",
            "Epoch 136/300\n",
            "12680/12680 [==============================] - 1s 50us/step - loss: 0.3175 - acc: 0.8588\n",
            "Epoch 137/300\n",
            "12680/12680 [==============================] - 1s 50us/step - loss: 0.3154 - acc: 0.8607\n",
            "Epoch 138/300\n",
            "12680/12680 [==============================] - 1s 50us/step - loss: 0.3164 - acc: 0.8586\n",
            "Epoch 139/300\n",
            "12680/12680 [==============================] - 1s 50us/step - loss: 0.3153 - acc: 0.8605\n",
            "Epoch 140/300\n",
            "12680/12680 [==============================] - 1s 50us/step - loss: 0.3164 - acc: 0.8600\n",
            "Epoch 141/300\n",
            "12680/12680 [==============================] - 1s 50us/step - loss: 0.3144 - acc: 0.8632\n",
            "Epoch 142/300\n",
            "12680/12680 [==============================] - 1s 50us/step - loss: 0.3129 - acc: 0.8618\n",
            "Epoch 143/300\n",
            "12680/12680 [==============================] - 1s 50us/step - loss: 0.3138 - acc: 0.8626\n",
            "Epoch 144/300\n",
            "12680/12680 [==============================] - 1s 49us/step - loss: 0.3137 - acc: 0.8625\n",
            "Epoch 145/300\n",
            "12680/12680 [==============================] - 1s 49us/step - loss: 0.3119 - acc: 0.8625\n",
            "Epoch 146/300\n",
            "12680/12680 [==============================] - 1s 50us/step - loss: 0.3113 - acc: 0.8634\n",
            "Epoch 147/300\n",
            "12680/12680 [==============================] - 1s 49us/step - loss: 0.3119 - acc: 0.8625\n",
            "Epoch 148/300\n",
            "12680/12680 [==============================] - 1s 50us/step - loss: 0.3130 - acc: 0.8620\n",
            "Epoch 149/300\n",
            "12680/12680 [==============================] - 1s 51us/step - loss: 0.3129 - acc: 0.8624\n",
            "Epoch 150/300\n",
            "12680/12680 [==============================] - 1s 50us/step - loss: 0.3109 - acc: 0.8624\n",
            "Epoch 151/300\n",
            "12680/12680 [==============================] - 1s 49us/step - loss: 0.3105 - acc: 0.8636\n",
            "Epoch 152/300\n",
            "12680/12680 [==============================] - 1s 50us/step - loss: 0.3082 - acc: 0.8639\n",
            "Epoch 153/300\n",
            "12680/12680 [==============================] - 1s 49us/step - loss: 0.3084 - acc: 0.8625\n",
            "Epoch 154/300\n",
            "12680/12680 [==============================] - 1s 49us/step - loss: 0.3077 - acc: 0.8626\n",
            "Epoch 155/300\n",
            "12680/12680 [==============================] - 1s 50us/step - loss: 0.3076 - acc: 0.8629\n",
            "Epoch 156/300\n",
            "12680/12680 [==============================] - 1s 49us/step - loss: 0.3085 - acc: 0.8639\n",
            "Epoch 157/300\n",
            "12680/12680 [==============================] - 1s 50us/step - loss: 0.3071 - acc: 0.8654\n",
            "Epoch 158/300\n",
            "12680/12680 [==============================] - 1s 50us/step - loss: 0.3069 - acc: 0.8652\n",
            "Epoch 159/300\n",
            "12680/12680 [==============================] - 1s 50us/step - loss: 0.3052 - acc: 0.8659\n",
            "Epoch 160/300\n",
            "12680/12680 [==============================] - 1s 50us/step - loss: 0.3052 - acc: 0.8665\n",
            "Epoch 161/300\n",
            "12680/12680 [==============================] - 1s 50us/step - loss: 0.3048 - acc: 0.8665\n",
            "Epoch 162/300\n",
            "12680/12680 [==============================] - 1s 51us/step - loss: 0.3024 - acc: 0.8659\n",
            "Epoch 163/300\n",
            "12680/12680 [==============================] - 1s 50us/step - loss: 0.3058 - acc: 0.8660\n",
            "Epoch 164/300\n",
            "12680/12680 [==============================] - 1s 50us/step - loss: 0.3035 - acc: 0.8692\n",
            "Epoch 165/300\n",
            "12680/12680 [==============================] - 1s 50us/step - loss: 0.3038 - acc: 0.8668\n",
            "Epoch 166/300\n",
            "12680/12680 [==============================] - 1s 50us/step - loss: 0.3046 - acc: 0.8675\n",
            "Epoch 167/300\n",
            "12680/12680 [==============================] - 1s 49us/step - loss: 0.3032 - acc: 0.8694\n",
            "Epoch 168/300\n",
            "12680/12680 [==============================] - 1s 49us/step - loss: 0.3025 - acc: 0.8678\n",
            "Epoch 169/300\n",
            "12680/12680 [==============================] - 1s 50us/step - loss: 0.3053 - acc: 0.8664\n",
            "Epoch 170/300\n",
            "12680/12680 [==============================] - 1s 50us/step - loss: 0.3031 - acc: 0.8676\n",
            "Epoch 171/300\n",
            "12680/12680 [==============================] - 1s 51us/step - loss: 0.3004 - acc: 0.8671\n",
            "Epoch 172/300\n",
            "12680/12680 [==============================] - 1s 49us/step - loss: 0.3010 - acc: 0.8701\n",
            "Epoch 173/300\n",
            "12680/12680 [==============================] - 1s 50us/step - loss: 0.3022 - acc: 0.8698\n",
            "Epoch 174/300\n",
            "12680/12680 [==============================] - 1s 50us/step - loss: 0.3003 - acc: 0.8678\n",
            "Epoch 175/300\n",
            "12680/12680 [==============================] - 1s 50us/step - loss: 0.2997 - acc: 0.8684\n",
            "Epoch 176/300\n",
            "12680/12680 [==============================] - 1s 50us/step - loss: 0.3000 - acc: 0.8693\n",
            "Epoch 177/300\n",
            "12680/12680 [==============================] - 1s 49us/step - loss: 0.2993 - acc: 0.8702\n",
            "Epoch 178/300\n",
            "12680/12680 [==============================] - 1s 50us/step - loss: 0.2990 - acc: 0.8702\n",
            "Epoch 179/300\n",
            "12680/12680 [==============================] - 1s 50us/step - loss: 0.2971 - acc: 0.8707\n",
            "Epoch 180/300\n",
            "12680/12680 [==============================] - 1s 50us/step - loss: 0.2989 - acc: 0.8698\n",
            "Epoch 181/300\n",
            "12680/12680 [==============================] - 1s 50us/step - loss: 0.2994 - acc: 0.8712\n",
            "Epoch 182/300\n",
            "12680/12680 [==============================] - 1s 50us/step - loss: 0.2979 - acc: 0.8687\n",
            "Epoch 183/300\n",
            "12680/12680 [==============================] - 1s 51us/step - loss: 0.2982 - acc: 0.8700\n",
            "Epoch 184/300\n",
            "12680/12680 [==============================] - 1s 50us/step - loss: 0.2976 - acc: 0.8703\n",
            "Epoch 185/300\n",
            "12680/12680 [==============================] - 1s 51us/step - loss: 0.2984 - acc: 0.8684\n",
            "Epoch 186/300\n",
            "12680/12680 [==============================] - 1s 50us/step - loss: 0.2955 - acc: 0.8700\n",
            "Epoch 187/300\n",
            "12680/12680 [==============================] - 1s 50us/step - loss: 0.2939 - acc: 0.8729\n",
            "Epoch 188/300\n",
            "12680/12680 [==============================] - 1s 51us/step - loss: 0.2970 - acc: 0.8696\n",
            "Epoch 189/300\n",
            "12680/12680 [==============================] - 1s 50us/step - loss: 0.2963 - acc: 0.8692\n",
            "Epoch 190/300\n",
            "12680/12680 [==============================] - 1s 50us/step - loss: 0.2938 - acc: 0.8718\n",
            "Epoch 191/300\n",
            "12680/12680 [==============================] - 1s 50us/step - loss: 0.2926 - acc: 0.8726\n",
            "Epoch 192/300\n",
            "12680/12680 [==============================] - 1s 50us/step - loss: 0.2957 - acc: 0.8715\n",
            "Epoch 193/300\n",
            "12680/12680 [==============================] - 1s 50us/step - loss: 0.2933 - acc: 0.8719\n",
            "Epoch 194/300\n",
            "12680/12680 [==============================] - 1s 50us/step - loss: 0.2945 - acc: 0.8727\n",
            "Epoch 195/300\n",
            "12680/12680 [==============================] - 1s 49us/step - loss: 0.2938 - acc: 0.8718\n",
            "Epoch 196/300\n",
            "12680/12680 [==============================] - 1s 50us/step - loss: 0.2948 - acc: 0.8726\n",
            "Epoch 197/300\n",
            "12680/12680 [==============================] - 1s 50us/step - loss: 0.2930 - acc: 0.8721\n",
            "Epoch 198/300\n",
            "12680/12680 [==============================] - 1s 50us/step - loss: 0.2921 - acc: 0.8728\n",
            "Epoch 199/300\n",
            "12680/12680 [==============================] - 1s 50us/step - loss: 0.2899 - acc: 0.8755\n",
            "Epoch 200/300\n",
            "12680/12680 [==============================] - 1s 51us/step - loss: 0.2896 - acc: 0.8737\n",
            "Epoch 201/300\n",
            "12680/12680 [==============================] - 1s 49us/step - loss: 0.2914 - acc: 0.8718\n",
            "Epoch 202/300\n",
            "12680/12680 [==============================] - 1s 50us/step - loss: 0.2904 - acc: 0.8744\n",
            "Epoch 203/300\n",
            "12680/12680 [==============================] - 1s 50us/step - loss: 0.2899 - acc: 0.8729\n",
            "Epoch 204/300\n",
            "12680/12680 [==============================] - 1s 50us/step - loss: 0.2912 - acc: 0.8766\n",
            "Epoch 205/300\n",
            "12680/12680 [==============================] - 1s 50us/step - loss: 0.2899 - acc: 0.8727\n",
            "Epoch 206/300\n",
            "12680/12680 [==============================] - 1s 50us/step - loss: 0.2917 - acc: 0.8765\n",
            "Epoch 207/300\n",
            "12680/12680 [==============================] - 1s 50us/step - loss: 0.2889 - acc: 0.8762\n",
            "Epoch 208/300\n",
            "12680/12680 [==============================] - 1s 51us/step - loss: 0.2910 - acc: 0.8744\n",
            "Epoch 209/300\n",
            "12680/12680 [==============================] - 1s 50us/step - loss: 0.2894 - acc: 0.8750\n",
            "Epoch 210/300\n",
            "12680/12680 [==============================] - 1s 50us/step - loss: 0.2871 - acc: 0.8759\n",
            "Epoch 211/300\n",
            "12680/12680 [==============================] - 1s 50us/step - loss: 0.2862 - acc: 0.8770\n",
            "Epoch 212/300\n",
            "12680/12680 [==============================] - 1s 50us/step - loss: 0.2875 - acc: 0.8746\n",
            "Epoch 213/300\n",
            "12680/12680 [==============================] - 1s 50us/step - loss: 0.2853 - acc: 0.8778\n",
            "Epoch 214/300\n",
            "12680/12680 [==============================] - 1s 50us/step - loss: 0.2860 - acc: 0.8750\n",
            "Epoch 215/300\n",
            "12680/12680 [==============================] - 1s 50us/step - loss: 0.2864 - acc: 0.8762\n",
            "Epoch 216/300\n",
            "12680/12680 [==============================] - 1s 51us/step - loss: 0.2864 - acc: 0.8751\n",
            "Epoch 217/300\n",
            "12680/12680 [==============================] - 1s 50us/step - loss: 0.2835 - acc: 0.8777\n",
            "Epoch 218/300\n",
            "12680/12680 [==============================] - 1s 51us/step - loss: 0.2822 - acc: 0.8789\n",
            "Epoch 219/300\n",
            "12680/12680 [==============================] - 1s 50us/step - loss: 0.2838 - acc: 0.8771\n",
            "Epoch 220/300\n",
            "12680/12680 [==============================] - 1s 50us/step - loss: 0.2833 - acc: 0.8796\n",
            "Epoch 221/300\n",
            "12680/12680 [==============================] - 1s 49us/step - loss: 0.2824 - acc: 0.8787\n",
            "Epoch 222/300\n",
            "12680/12680 [==============================] - 1s 50us/step - loss: 0.2834 - acc: 0.8788\n",
            "Epoch 223/300\n",
            "12680/12680 [==============================] - 1s 50us/step - loss: 0.2827 - acc: 0.8794\n",
            "Epoch 224/300\n",
            "12680/12680 [==============================] - 1s 51us/step - loss: 0.2815 - acc: 0.8795\n",
            "Epoch 225/300\n",
            "12680/12680 [==============================] - 1s 50us/step - loss: 0.2819 - acc: 0.8778\n",
            "Epoch 226/300\n",
            "12680/12680 [==============================] - 1s 50us/step - loss: 0.2822 - acc: 0.8799\n",
            "Epoch 227/300\n",
            "12680/12680 [==============================] - 1s 50us/step - loss: 0.2787 - acc: 0.8810\n",
            "Epoch 228/300\n",
            "12680/12680 [==============================] - 1s 50us/step - loss: 0.2812 - acc: 0.8793\n",
            "Epoch 229/300\n",
            "12680/12680 [==============================] - 1s 49us/step - loss: 0.2806 - acc: 0.8808\n",
            "Epoch 230/300\n",
            "12680/12680 [==============================] - 1s 49us/step - loss: 0.2801 - acc: 0.8806\n",
            "Epoch 231/300\n",
            "12680/12680 [==============================] - 1s 50us/step - loss: 0.2820 - acc: 0.8789\n",
            "Epoch 232/300\n",
            "12680/12680 [==============================] - 1s 51us/step - loss: 0.2824 - acc: 0.8800\n",
            "Epoch 233/300\n",
            "12680/12680 [==============================] - 1s 50us/step - loss: 0.2777 - acc: 0.8804\n",
            "Epoch 234/300\n",
            "12680/12680 [==============================] - 1s 50us/step - loss: 0.2814 - acc: 0.8800\n",
            "Epoch 235/300\n",
            "12680/12680 [==============================] - 1s 51us/step - loss: 0.2766 - acc: 0.8816\n",
            "Epoch 236/300\n",
            "12680/12680 [==============================] - 1s 50us/step - loss: 0.2771 - acc: 0.8806\n",
            "Epoch 237/300\n",
            "12680/12680 [==============================] - 1s 50us/step - loss: 0.2787 - acc: 0.8812\n",
            "Epoch 238/300\n",
            "12680/12680 [==============================] - 1s 50us/step - loss: 0.2769 - acc: 0.8808\n",
            "Epoch 239/300\n",
            "12680/12680 [==============================] - 1s 50us/step - loss: 0.2791 - acc: 0.8813\n",
            "Epoch 240/300\n",
            "12680/12680 [==============================] - 1s 50us/step - loss: 0.2741 - acc: 0.8816\n",
            "Epoch 241/300\n",
            "12680/12680 [==============================] - 1s 50us/step - loss: 0.2788 - acc: 0.8826\n",
            "Epoch 242/300\n",
            "12680/12680 [==============================] - 1s 50us/step - loss: 0.2742 - acc: 0.8851\n",
            "Epoch 243/300\n",
            "12680/12680 [==============================] - 1s 50us/step - loss: 0.2753 - acc: 0.8826\n",
            "Epoch 244/300\n",
            "12680/12680 [==============================] - 1s 52us/step - loss: 0.2758 - acc: 0.8834\n",
            "Epoch 245/300\n",
            "12680/12680 [==============================] - 1s 50us/step - loss: 0.2763 - acc: 0.8833\n",
            "Epoch 246/300\n",
            "12680/12680 [==============================] - 1s 50us/step - loss: 0.2743 - acc: 0.8827\n",
            "Epoch 247/300\n",
            "12680/12680 [==============================] - 1s 49us/step - loss: 0.2753 - acc: 0.8816\n",
            "Epoch 248/300\n",
            "12680/12680 [==============================] - 1s 50us/step - loss: 0.2762 - acc: 0.8820\n",
            "Epoch 249/300\n",
            "12680/12680 [==============================] - 1s 51us/step - loss: 0.2721 - acc: 0.8821\n",
            "Epoch 250/300\n",
            "12680/12680 [==============================] - 1s 51us/step - loss: 0.2726 - acc: 0.8854\n",
            "Epoch 251/300\n",
            "12680/12680 [==============================] - 1s 50us/step - loss: 0.2734 - acc: 0.8831\n",
            "Epoch 252/300\n",
            "12680/12680 [==============================] - 1s 50us/step - loss: 0.2724 - acc: 0.8841\n",
            "Epoch 253/300\n",
            "12680/12680 [==============================] - 1s 50us/step - loss: 0.2708 - acc: 0.8868\n",
            "Epoch 254/300\n",
            "12680/12680 [==============================] - 1s 50us/step - loss: 0.2705 - acc: 0.8819\n",
            "Epoch 255/300\n",
            "12680/12680 [==============================] - 1s 50us/step - loss: 0.2673 - acc: 0.8888\n",
            "Epoch 256/300\n",
            "12680/12680 [==============================] - 1s 51us/step - loss: 0.2698 - acc: 0.8873\n",
            "Epoch 257/300\n",
            "12680/12680 [==============================] - 1s 50us/step - loss: 0.2714 - acc: 0.8845\n",
            "Epoch 258/300\n",
            "12680/12680 [==============================] - 1s 51us/step - loss: 0.2705 - acc: 0.8834\n",
            "Epoch 259/300\n",
            "12680/12680 [==============================] - 1s 50us/step - loss: 0.2692 - acc: 0.8851\n",
            "Epoch 260/300\n",
            "12680/12680 [==============================] - 1s 50us/step - loss: 0.2693 - acc: 0.8865\n",
            "Epoch 261/300\n",
            "12680/12680 [==============================] - 1s 50us/step - loss: 0.2680 - acc: 0.8853\n",
            "Epoch 262/300\n",
            "12680/12680 [==============================] - 1s 50us/step - loss: 0.2689 - acc: 0.8864\n",
            "Epoch 263/300\n",
            "12680/12680 [==============================] - 1s 51us/step - loss: 0.2700 - acc: 0.8858\n",
            "Epoch 264/300\n",
            "12680/12680 [==============================] - 1s 50us/step - loss: 0.2664 - acc: 0.8871\n",
            "Epoch 265/300\n",
            "12680/12680 [==============================] - 1s 51us/step - loss: 0.2653 - acc: 0.8882\n",
            "Epoch 266/300\n",
            "12680/12680 [==============================] - 1s 50us/step - loss: 0.2672 - acc: 0.8870\n",
            "Epoch 267/300\n",
            "12680/12680 [==============================] - 1s 50us/step - loss: 0.2692 - acc: 0.8862\n",
            "Epoch 268/300\n",
            "12680/12680 [==============================] - 1s 50us/step - loss: 0.2657 - acc: 0.8861\n",
            "Epoch 269/300\n",
            "12680/12680 [==============================] - 1s 50us/step - loss: 0.2658 - acc: 0.8856\n",
            "Epoch 270/300\n",
            "12680/12680 [==============================] - 1s 50us/step - loss: 0.2652 - acc: 0.8855\n",
            "Epoch 271/300\n",
            "12680/12680 [==============================] - 1s 51us/step - loss: 0.2665 - acc: 0.8863\n",
            "Epoch 272/300\n",
            "12680/12680 [==============================] - 1s 50us/step - loss: 0.2628 - acc: 0.8889\n",
            "Epoch 273/300\n",
            "12680/12680 [==============================] - 1s 50us/step - loss: 0.2662 - acc: 0.8866\n",
            "Epoch 274/300\n",
            "12680/12680 [==============================] - 1s 51us/step - loss: 0.2628 - acc: 0.8894\n",
            "Epoch 275/300\n",
            "12680/12680 [==============================] - 1s 50us/step - loss: 0.2655 - acc: 0.8868\n",
            "Epoch 276/300\n",
            "12680/12680 [==============================] - 1s 50us/step - loss: 0.2625 - acc: 0.8879\n",
            "Epoch 277/300\n",
            "12680/12680 [==============================] - 1s 50us/step - loss: 0.2626 - acc: 0.8871\n",
            "Epoch 278/300\n",
            "12680/12680 [==============================] - 1s 50us/step - loss: 0.2626 - acc: 0.8870\n",
            "Epoch 279/300\n",
            "12680/12680 [==============================] - 1s 50us/step - loss: 0.2628 - acc: 0.8902\n",
            "Epoch 280/300\n",
            "12680/12680 [==============================] - 1s 51us/step - loss: 0.2628 - acc: 0.8884\n",
            "Epoch 281/300\n",
            "12680/12680 [==============================] - 1s 51us/step - loss: 0.2606 - acc: 0.8935\n",
            "Epoch 282/300\n",
            "12680/12680 [==============================] - 1s 51us/step - loss: 0.2631 - acc: 0.8897\n",
            "Epoch 283/300\n",
            "12680/12680 [==============================] - 1s 51us/step - loss: 0.2603 - acc: 0.8889\n",
            "Epoch 284/300\n",
            "12680/12680 [==============================] - 1s 50us/step - loss: 0.2614 - acc: 0.8900\n",
            "Epoch 285/300\n",
            "12680/12680 [==============================] - 1s 50us/step - loss: 0.2596 - acc: 0.8901\n",
            "Epoch 286/300\n",
            "12680/12680 [==============================] - 1s 50us/step - loss: 0.2595 - acc: 0.8894\n",
            "Epoch 287/300\n",
            "12680/12680 [==============================] - 1s 50us/step - loss: 0.2625 - acc: 0.8875\n",
            "Epoch 288/300\n",
            "12680/12680 [==============================] - 1s 51us/step - loss: 0.2595 - acc: 0.8888\n",
            "Epoch 289/300\n",
            "12680/12680 [==============================] - 1s 53us/step - loss: 0.2624 - acc: 0.8894\n",
            "Epoch 290/300\n",
            "12680/12680 [==============================] - 1s 54us/step - loss: 0.2587 - acc: 0.8894\n",
            "Epoch 291/300\n",
            "12680/12680 [==============================] - 1s 53us/step - loss: 0.2612 - acc: 0.8899\n",
            "Epoch 292/300\n",
            "12680/12680 [==============================] - 1s 54us/step - loss: 0.2616 - acc: 0.8902\n",
            "Epoch 293/300\n",
            "12680/12680 [==============================] - 1s 54us/step - loss: 0.2571 - acc: 0.8934\n",
            "Epoch 294/300\n",
            "12680/12680 [==============================] - 1s 54us/step - loss: 0.2600 - acc: 0.8897\n",
            "Epoch 295/300\n",
            "12680/12680 [==============================] - 1s 54us/step - loss: 0.2557 - acc: 0.8934\n",
            "Epoch 296/300\n",
            "12680/12680 [==============================] - 1s 53us/step - loss: 0.2564 - acc: 0.8920\n",
            "Epoch 297/300\n",
            "12680/12680 [==============================] - 1s 50us/step - loss: 0.2573 - acc: 0.8913\n",
            "Epoch 298/300\n",
            "12680/12680 [==============================] - 1s 51us/step - loss: 0.2555 - acc: 0.8920\n",
            "Epoch 299/300\n",
            "12680/12680 [==============================] - 1s 50us/step - loss: 0.2572 - acc: 0.8894\n",
            "Epoch 300/300\n",
            "12680/12680 [==============================] - 1s 50us/step - loss: 0.2582 - acc: 0.8907\n"
          ],
          "name": "stdout"
        },
        {
          "output_type": "execute_result",
          "data": {
            "text/plain": [
              "<keras.callbacks.History at 0x7f7f43ca8748>"
            ]
          },
          "metadata": {
            "tags": []
          },
          "execution_count": 123
        }
      ]
    },
    {
      "metadata": {
        "id": "XRjKhxbKqzVT",
        "colab_type": "code",
        "colab": {
          "base_uri": "https://localhost:8080/",
          "height": 34
        },
        "outputId": "bca05212-d09b-4c71-d121-10bad127537e"
      },
      "cell_type": "code",
      "source": [
        "Y_pred = classifier.predict(X_test)\n",
        "Y_pred = (Y_pred > 0.5)\n",
        "from sklearn.metrics import confusion_matrix\n",
        "matrix = confusion_matrix(Y_test, Y_pred)\n",
        "print(\"Our accuracy is {}%\".format(((matrix[0][0] + matrix[1][1])/(matrix[0][0] + matrix[0][1] +  matrix[1][0] +matrix[1][1]))*100))"
      ],
      "execution_count": 124,
      "outputs": [
        {
          "output_type": "stream",
          "text": [
            "Our accuracy is 80.5%\n"
          ],
          "name": "stdout"
        }
      ]
    },
    {
      "metadata": {
        "id": "7Qd9Awc3jO26",
        "colab_type": "text",
        "_uuid": "94ff3a3aa4841e3b7e2e899aa5a31049c96f3979"
      },
      "cell_type": "markdown",
      "source": [
        "## Decesion Tree\n"
      ]
    },
    {
      "metadata": {
        "id": "nEV0AnfN1RPm",
        "colab_type": "text"
      },
      "cell_type": "markdown",
      "source": [
        "### Default parameters"
      ]
    },
    {
      "metadata": {
        "trusted": true,
        "_uuid": "f77d80e7b988a50ddad2408e68233ff4d4dda91b",
        "id": "y9X-UjI5VET5",
        "colab_type": "code",
        "colab": {}
      },
      "cell_type": "code",
      "source": [
        "from sklearn.tree import DecisionTreeClassifier\n"
      ],
      "execution_count": 0,
      "outputs": []
    },
    {
      "metadata": {
        "id": "YDzrcvZZfv5H",
        "colab_type": "text",
        "_uuid": "108c5d0f9768b096e83c560584acf72f4d06075b"
      },
      "cell_type": "markdown",
      "source": [
        ""
      ]
    },
    {
      "metadata": {
        "id": "a4JYtpyTfPXr",
        "colab_type": "code",
        "trusted": true,
        "_uuid": "380613eaea2281a5bcfa294a6e4af1fbc5ac4dff",
        "colab": {}
      },
      "cell_type": "code",
      "source": [
        "from imblearn.over_sampling import SMOTE\n",
        "sm = SMOTE(kind = \"regular\")\n",
        "X_tr,Y_tr = sm.fit_sample(X_train,Y_train)"
      ],
      "execution_count": 0,
      "outputs": []
    },
    {
      "metadata": {
        "id": "sdUjoxPNf6QX",
        "colab_type": "code",
        "outputId": "3cf5a541-c5e8-425f-f331-64c874b6f75c",
        "trusted": true,
        "_uuid": "666fb5242a68fc74ea4fc3918e62f859364e6b47",
        "colab": {
          "base_uri": "https://localhost:8080/",
          "height": 119
        }
      },
      "cell_type": "code",
      "source": [
        "from sklearn.tree import DecisionTreeClassifier\n",
        "from sklearn import tree\n",
        "\n",
        "# Fitting the decision tree with default hyperparameters, apart from\n",
        "dt1 = DecisionTreeClassifier(max_depth=5)\n",
        "dt1.fit(X_tr, Y_tr)"
      ],
      "execution_count": 141,
      "outputs": [
        {
          "output_type": "execute_result",
          "data": {
            "text/plain": [
              "DecisionTreeClassifier(class_weight=None, criterion='gini', max_depth=5,\n",
              "            max_features=None, max_leaf_nodes=None,\n",
              "            min_impurity_decrease=0.0, min_impurity_split=None,\n",
              "            min_samples_leaf=1, min_samples_split=2,\n",
              "            min_weight_fraction_leaf=0.0, presort=False, random_state=None,\n",
              "            splitter='best')"
            ]
          },
          "metadata": {
            "tags": []
          },
          "execution_count": 141
        }
      ]
    },
    {
      "metadata": {
        "id": "oFnZqyow2sa5",
        "colab_type": "code",
        "colab": {}
      },
      "cell_type": "code",
      "source": [
        "# dot_data = tree.export_graphviz(dt1, out_file=None)\n",
        "# graph = graphviz.Source(dot_data)\n",
        "# graph.render(\"iris\")\n"
      ],
      "execution_count": 0,
      "outputs": []
    },
    {
      "metadata": {
        "id": "ePLB0WZvgLzV",
        "colab_type": "code",
        "outputId": "a5439ac0-7014-4f55-a149-c09e56d335bd",
        "trusted": true,
        "_uuid": "030df0caebf08e1ec9d18ce38b49d0332e5e9874",
        "colab": {
          "base_uri": "https://localhost:8080/",
          "height": 170
        }
      },
      "cell_type": "code",
      "source": [
        "# The evaluation metrics of our default model\n",
        "from sklearn.metrics import classification_report, confusion_matrix, accuracy_score\n",
        "\n",
        "# Making predictions\n",
        "X_test = pd.DataFrame(data=X_test).iloc[:, :]\n",
        "y_pred2 = dt1.predict(X_test)\n",
        "\n",
        "# Printing classification report\n",
        "print(classification_report(Y_test, y_pred2))\n"
      ],
      "execution_count": 142,
      "outputs": [
        {
          "output_type": "stream",
          "text": [
            "              precision    recall  f1-score   support\n",
            "\n",
            "           0       0.93      0.73      0.82      1623\n",
            "           1       0.40      0.75      0.52       377\n",
            "\n",
            "   micro avg       0.74      0.74      0.74      2000\n",
            "   macro avg       0.66      0.74      0.67      2000\n",
            "weighted avg       0.83      0.74      0.76      2000\n",
            "\n"
          ],
          "name": "stdout"
        }
      ]
    },
    {
      "metadata": {
        "id": "IIqNFhbPhEhF",
        "colab_type": "code",
        "outputId": "f05ee1a2-1743-4121-84b4-3e26ea1ebf86",
        "trusted": true,
        "_uuid": "c7c624b0edd2d3131f44d1b0a1d3f6d565d18c9d",
        "colab": {
          "base_uri": "https://localhost:8080/",
          "height": 68
        }
      },
      "cell_type": "code",
      "source": [
        "# Printing confusion matrix and accuracy\n",
        "print(confusion_matrix(Y_test, y_pred2))\n",
        "print('Accuracy of Decision Tree :',accuracy_score(Y_test, y_pred2))"
      ],
      "execution_count": 143,
      "outputs": [
        {
          "output_type": "stream",
          "text": [
            "[[1190  433]\n",
            " [  93  284]]\n",
            "Accuracy of Decision Tree : 0.737\n"
          ],
          "name": "stdout"
        }
      ]
    },
    {
      "metadata": {
        "id": "8sxs3dgnFCpb",
        "colab_type": "text",
        "_uuid": "7c82eddadb3f0031bc31ec4f61bbda9e8d89a339"
      },
      "cell_type": "markdown",
      "source": [
        "### Tuning max_depth"
      ]
    },
    {
      "metadata": {
        "id": "CfBUxSxAhVzd",
        "colab_type": "code",
        "outputId": "14fc4353-7142-4a20-8cf7-24a49a5020c2",
        "trusted": true,
        "_uuid": "bb997b3fd769d6aee17758efba2314f687ad6df1",
        "colab": {
          "base_uri": "https://localhost:8080/",
          "height": 204
        }
      },
      "cell_type": "code",
      "source": [
        "# GridSearchCV to find optimal max_depth\n",
        "from sklearn.model_selection import KFold\n",
        "from sklearn.model_selection import GridSearchCV\n",
        "\n",
        "\n",
        "# specify number of folds for k-fold CV\n",
        "n_folds = 5\n",
        "\n",
        "# parameters to build the model on\n",
        "parameters = {'max_depth': range(1, 40)}\n",
        "\n",
        "# instantiate the model\n",
        "dt2 = DecisionTreeClassifier(criterion = \"gini\", \n",
        "                               random_state = 100)\n",
        "\n",
        "# fit tree on training data\n",
        "tree = GridSearchCV(dt2, parameters, \n",
        "                    cv=n_folds, \n",
        "                   scoring=\"accuracy\")\n",
        "tree.fit(X_tr, Y_tr)"
      ],
      "execution_count": 144,
      "outputs": [
        {
          "output_type": "execute_result",
          "data": {
            "text/plain": [
              "GridSearchCV(cv=5, error_score='raise-deprecating',\n",
              "       estimator=DecisionTreeClassifier(class_weight=None, criterion='gini', max_depth=None,\n",
              "            max_features=None, max_leaf_nodes=None,\n",
              "            min_impurity_decrease=0.0, min_impurity_split=None,\n",
              "            min_samples_leaf=1, min_samples_split=2,\n",
              "            min_weight_fraction_leaf=0.0, presort=False, random_state=100,\n",
              "            splitter='best'),\n",
              "       fit_params=None, iid='warn', n_jobs=None,\n",
              "       param_grid={'max_depth': range(1, 40)}, pre_dispatch='2*n_jobs',\n",
              "       refit=True, return_train_score='warn', scoring='accuracy',\n",
              "       verbose=0)"
            ]
          },
          "metadata": {
            "tags": []
          },
          "execution_count": 144
        }
      ]
    },
    {
      "metadata": {
        "id": "xLt22kbUiPw0",
        "colab_type": "code",
        "outputId": "6b88cc27-f2bb-473d-f0d8-6577cb70e006",
        "trusted": true,
        "_uuid": "340597d2b57e3ac277b91371575f129801f4b8dd",
        "colab": {
          "base_uri": "https://localhost:8080/",
          "height": 578
        }
      },
      "cell_type": "code",
      "source": [
        "score = tree.cv_results_\n",
        "pd.DataFrame(score).head(10)"
      ],
      "execution_count": 145,
      "outputs": [
        {
          "output_type": "execute_result",
          "data": {
            "text/html": [
              "<div>\n",
              "<style scoped>\n",
              "    .dataframe tbody tr th:only-of-type {\n",
              "        vertical-align: middle;\n",
              "    }\n",
              "\n",
              "    .dataframe tbody tr th {\n",
              "        vertical-align: top;\n",
              "    }\n",
              "\n",
              "    .dataframe thead th {\n",
              "        text-align: right;\n",
              "    }\n",
              "</style>\n",
              "<table border=\"1\" class=\"dataframe\">\n",
              "  <thead>\n",
              "    <tr style=\"text-align: right;\">\n",
              "      <th></th>\n",
              "      <th>mean_fit_time</th>\n",
              "      <th>mean_score_time</th>\n",
              "      <th>mean_test_score</th>\n",
              "      <th>mean_train_score</th>\n",
              "      <th>param_max_depth</th>\n",
              "      <th>params</th>\n",
              "      <th>rank_test_score</th>\n",
              "      <th>split0_test_score</th>\n",
              "      <th>split0_train_score</th>\n",
              "      <th>split1_test_score</th>\n",
              "      <th>...</th>\n",
              "      <th>split2_test_score</th>\n",
              "      <th>split2_train_score</th>\n",
              "      <th>split3_test_score</th>\n",
              "      <th>split3_train_score</th>\n",
              "      <th>split4_test_score</th>\n",
              "      <th>split4_train_score</th>\n",
              "      <th>std_fit_time</th>\n",
              "      <th>std_score_time</th>\n",
              "      <th>std_test_score</th>\n",
              "      <th>std_train_score</th>\n",
              "    </tr>\n",
              "  </thead>\n",
              "  <tbody>\n",
              "    <tr>\n",
              "      <th>0</th>\n",
              "      <td>0.01</td>\n",
              "      <td>0.00</td>\n",
              "      <td>0.71</td>\n",
              "      <td>0.71</td>\n",
              "      <td>1</td>\n",
              "      <td>{'max_depth': 1}</td>\n",
              "      <td>39</td>\n",
              "      <td>0.69</td>\n",
              "      <td>0.72</td>\n",
              "      <td>0.71</td>\n",
              "      <td>...</td>\n",
              "      <td>0.72</td>\n",
              "      <td>0.71</td>\n",
              "      <td>0.72</td>\n",
              "      <td>0.71</td>\n",
              "      <td>0.71</td>\n",
              "      <td>0.71</td>\n",
              "      <td>0.00</td>\n",
              "      <td>0.00</td>\n",
              "      <td>0.01</td>\n",
              "      <td>0.00</td>\n",
              "    </tr>\n",
              "    <tr>\n",
              "      <th>1</th>\n",
              "      <td>0.01</td>\n",
              "      <td>0.00</td>\n",
              "      <td>0.73</td>\n",
              "      <td>0.73</td>\n",
              "      <td>2</td>\n",
              "      <td>{'max_depth': 2}</td>\n",
              "      <td>38</td>\n",
              "      <td>0.71</td>\n",
              "      <td>0.73</td>\n",
              "      <td>0.73</td>\n",
              "      <td>...</td>\n",
              "      <td>0.74</td>\n",
              "      <td>0.73</td>\n",
              "      <td>0.74</td>\n",
              "      <td>0.73</td>\n",
              "      <td>0.72</td>\n",
              "      <td>0.73</td>\n",
              "      <td>0.00</td>\n",
              "      <td>0.00</td>\n",
              "      <td>0.01</td>\n",
              "      <td>0.00</td>\n",
              "    </tr>\n",
              "    <tr>\n",
              "      <th>2</th>\n",
              "      <td>0.02</td>\n",
              "      <td>0.00</td>\n",
              "      <td>0.74</td>\n",
              "      <td>0.74</td>\n",
              "      <td>3</td>\n",
              "      <td>{'max_depth': 3}</td>\n",
              "      <td>37</td>\n",
              "      <td>0.72</td>\n",
              "      <td>0.75</td>\n",
              "      <td>0.74</td>\n",
              "      <td>...</td>\n",
              "      <td>0.74</td>\n",
              "      <td>0.73</td>\n",
              "      <td>0.75</td>\n",
              "      <td>0.74</td>\n",
              "      <td>0.74</td>\n",
              "      <td>0.74</td>\n",
              "      <td>0.00</td>\n",
              "      <td>0.00</td>\n",
              "      <td>0.01</td>\n",
              "      <td>0.01</td>\n",
              "    </tr>\n",
              "    <tr>\n",
              "      <th>3</th>\n",
              "      <td>0.03</td>\n",
              "      <td>0.00</td>\n",
              "      <td>0.76</td>\n",
              "      <td>0.77</td>\n",
              "      <td>4</td>\n",
              "      <td>{'max_depth': 4}</td>\n",
              "      <td>36</td>\n",
              "      <td>0.71</td>\n",
              "      <td>0.77</td>\n",
              "      <td>0.78</td>\n",
              "      <td>...</td>\n",
              "      <td>0.78</td>\n",
              "      <td>0.77</td>\n",
              "      <td>0.77</td>\n",
              "      <td>0.75</td>\n",
              "      <td>0.74</td>\n",
              "      <td>0.76</td>\n",
              "      <td>0.00</td>\n",
              "      <td>0.00</td>\n",
              "      <td>0.02</td>\n",
              "      <td>0.01</td>\n",
              "    </tr>\n",
              "    <tr>\n",
              "      <th>4</th>\n",
              "      <td>0.03</td>\n",
              "      <td>0.00</td>\n",
              "      <td>0.79</td>\n",
              "      <td>0.80</td>\n",
              "      <td>5</td>\n",
              "      <td>{'max_depth': 5}</td>\n",
              "      <td>35</td>\n",
              "      <td>0.73</td>\n",
              "      <td>0.79</td>\n",
              "      <td>0.80</td>\n",
              "      <td>...</td>\n",
              "      <td>0.80</td>\n",
              "      <td>0.80</td>\n",
              "      <td>0.82</td>\n",
              "      <td>0.79</td>\n",
              "      <td>0.79</td>\n",
              "      <td>0.80</td>\n",
              "      <td>0.00</td>\n",
              "      <td>0.00</td>\n",
              "      <td>0.03</td>\n",
              "      <td>0.00</td>\n",
              "    </tr>\n",
              "    <tr>\n",
              "      <th>5</th>\n",
              "      <td>0.04</td>\n",
              "      <td>0.00</td>\n",
              "      <td>0.80</td>\n",
              "      <td>0.81</td>\n",
              "      <td>6</td>\n",
              "      <td>{'max_depth': 6}</td>\n",
              "      <td>34</td>\n",
              "      <td>0.74</td>\n",
              "      <td>0.81</td>\n",
              "      <td>0.81</td>\n",
              "      <td>...</td>\n",
              "      <td>0.82</td>\n",
              "      <td>0.82</td>\n",
              "      <td>0.83</td>\n",
              "      <td>0.81</td>\n",
              "      <td>0.81</td>\n",
              "      <td>0.82</td>\n",
              "      <td>0.00</td>\n",
              "      <td>0.00</td>\n",
              "      <td>0.03</td>\n",
              "      <td>0.00</td>\n",
              "    </tr>\n",
              "    <tr>\n",
              "      <th>6</th>\n",
              "      <td>0.04</td>\n",
              "      <td>0.00</td>\n",
              "      <td>0.81</td>\n",
              "      <td>0.83</td>\n",
              "      <td>7</td>\n",
              "      <td>{'max_depth': 7}</td>\n",
              "      <td>33</td>\n",
              "      <td>0.73</td>\n",
              "      <td>0.84</td>\n",
              "      <td>0.81</td>\n",
              "      <td>...</td>\n",
              "      <td>0.83</td>\n",
              "      <td>0.83</td>\n",
              "      <td>0.84</td>\n",
              "      <td>0.82</td>\n",
              "      <td>0.81</td>\n",
              "      <td>0.83</td>\n",
              "      <td>0.00</td>\n",
              "      <td>0.00</td>\n",
              "      <td>0.04</td>\n",
              "      <td>0.01</td>\n",
              "    </tr>\n",
              "    <tr>\n",
              "      <th>7</th>\n",
              "      <td>0.05</td>\n",
              "      <td>0.00</td>\n",
              "      <td>0.81</td>\n",
              "      <td>0.84</td>\n",
              "      <td>8</td>\n",
              "      <td>{'max_depth': 8}</td>\n",
              "      <td>32</td>\n",
              "      <td>0.74</td>\n",
              "      <td>0.85</td>\n",
              "      <td>0.82</td>\n",
              "      <td>...</td>\n",
              "      <td>0.83</td>\n",
              "      <td>0.84</td>\n",
              "      <td>0.84</td>\n",
              "      <td>0.83</td>\n",
              "      <td>0.82</td>\n",
              "      <td>0.84</td>\n",
              "      <td>0.00</td>\n",
              "      <td>0.00</td>\n",
              "      <td>0.04</td>\n",
              "      <td>0.00</td>\n",
              "    </tr>\n",
              "    <tr>\n",
              "      <th>8</th>\n",
              "      <td>0.05</td>\n",
              "      <td>0.00</td>\n",
              "      <td>0.81</td>\n",
              "      <td>0.86</td>\n",
              "      <td>9</td>\n",
              "      <td>{'max_depth': 9}</td>\n",
              "      <td>31</td>\n",
              "      <td>0.73</td>\n",
              "      <td>0.87</td>\n",
              "      <td>0.81</td>\n",
              "      <td>...</td>\n",
              "      <td>0.85</td>\n",
              "      <td>0.85</td>\n",
              "      <td>0.84</td>\n",
              "      <td>0.85</td>\n",
              "      <td>0.83</td>\n",
              "      <td>0.86</td>\n",
              "      <td>0.00</td>\n",
              "      <td>0.00</td>\n",
              "      <td>0.04</td>\n",
              "      <td>0.01</td>\n",
              "    </tr>\n",
              "    <tr>\n",
              "      <th>9</th>\n",
              "      <td>0.06</td>\n",
              "      <td>0.00</td>\n",
              "      <td>0.82</td>\n",
              "      <td>0.88</td>\n",
              "      <td>10</td>\n",
              "      <td>{'max_depth': 10}</td>\n",
              "      <td>30</td>\n",
              "      <td>0.74</td>\n",
              "      <td>0.89</td>\n",
              "      <td>0.82</td>\n",
              "      <td>...</td>\n",
              "      <td>0.84</td>\n",
              "      <td>0.88</td>\n",
              "      <td>0.85</td>\n",
              "      <td>0.87</td>\n",
              "      <td>0.83</td>\n",
              "      <td>0.87</td>\n",
              "      <td>0.00</td>\n",
              "      <td>0.00</td>\n",
              "      <td>0.04</td>\n",
              "      <td>0.01</td>\n",
              "    </tr>\n",
              "  </tbody>\n",
              "</table>\n",
              "<p>10 rows × 21 columns</p>\n",
              "</div>"
            ],
            "text/plain": [
              "   mean_fit_time  mean_score_time  mean_test_score  mean_train_score  \\\n",
              "0           0.01             0.00             0.71              0.71   \n",
              "1           0.01             0.00             0.73              0.73   \n",
              "2           0.02             0.00             0.74              0.74   \n",
              "3           0.03             0.00             0.76              0.77   \n",
              "4           0.03             0.00             0.79              0.80   \n",
              "5           0.04             0.00             0.80              0.81   \n",
              "6           0.04             0.00             0.81              0.83   \n",
              "7           0.05             0.00             0.81              0.84   \n",
              "8           0.05             0.00             0.81              0.86   \n",
              "9           0.06             0.00             0.82              0.88   \n",
              "\n",
              "  param_max_depth             params  rank_test_score  split0_test_score  \\\n",
              "0               1   {'max_depth': 1}               39               0.69   \n",
              "1               2   {'max_depth': 2}               38               0.71   \n",
              "2               3   {'max_depth': 3}               37               0.72   \n",
              "3               4   {'max_depth': 4}               36               0.71   \n",
              "4               5   {'max_depth': 5}               35               0.73   \n",
              "5               6   {'max_depth': 6}               34               0.74   \n",
              "6               7   {'max_depth': 7}               33               0.73   \n",
              "7               8   {'max_depth': 8}               32               0.74   \n",
              "8               9   {'max_depth': 9}               31               0.73   \n",
              "9              10  {'max_depth': 10}               30               0.74   \n",
              "\n",
              "   split0_train_score  split1_test_score       ...         split2_test_score  \\\n",
              "0                0.72               0.71       ...                      0.72   \n",
              "1                0.73               0.73       ...                      0.74   \n",
              "2                0.75               0.74       ...                      0.74   \n",
              "3                0.77               0.78       ...                      0.78   \n",
              "4                0.79               0.80       ...                      0.80   \n",
              "5                0.81               0.81       ...                      0.82   \n",
              "6                0.84               0.81       ...                      0.83   \n",
              "7                0.85               0.82       ...                      0.83   \n",
              "8                0.87               0.81       ...                      0.85   \n",
              "9                0.89               0.82       ...                      0.84   \n",
              "\n",
              "   split2_train_score  split3_test_score  split3_train_score  \\\n",
              "0                0.71               0.72                0.71   \n",
              "1                0.73               0.74                0.73   \n",
              "2                0.73               0.75                0.74   \n",
              "3                0.77               0.77                0.75   \n",
              "4                0.80               0.82                0.79   \n",
              "5                0.82               0.83                0.81   \n",
              "6                0.83               0.84                0.82   \n",
              "7                0.84               0.84                0.83   \n",
              "8                0.85               0.84                0.85   \n",
              "9                0.88               0.85                0.87   \n",
              "\n",
              "   split4_test_score  split4_train_score  std_fit_time  std_score_time  \\\n",
              "0               0.71                0.71          0.00            0.00   \n",
              "1               0.72                0.73          0.00            0.00   \n",
              "2               0.74                0.74          0.00            0.00   \n",
              "3               0.74                0.76          0.00            0.00   \n",
              "4               0.79                0.80          0.00            0.00   \n",
              "5               0.81                0.82          0.00            0.00   \n",
              "6               0.81                0.83          0.00            0.00   \n",
              "7               0.82                0.84          0.00            0.00   \n",
              "8               0.83                0.86          0.00            0.00   \n",
              "9               0.83                0.87          0.00            0.00   \n",
              "\n",
              "   std_test_score  std_train_score  \n",
              "0            0.01             0.00  \n",
              "1            0.01             0.00  \n",
              "2            0.01             0.01  \n",
              "3            0.02             0.01  \n",
              "4            0.03             0.00  \n",
              "5            0.03             0.00  \n",
              "6            0.04             0.01  \n",
              "7            0.04             0.00  \n",
              "8            0.04             0.01  \n",
              "9            0.04             0.01  \n",
              "\n",
              "[10 rows x 21 columns]"
            ]
          },
          "metadata": {
            "tags": []
          },
          "execution_count": 145
        }
      ]
    },
    {
      "metadata": {
        "id": "6446QQDaicFq",
        "colab_type": "code",
        "outputId": "f15c13cd-00f9-414f-d5f8-3f66e3d8e8b6",
        "trusted": true,
        "_uuid": "37cbe9b875b410c01af1921b1678d43a91c0d8ff",
        "colab": {
          "base_uri": "https://localhost:8080/",
          "height": 361
        }
      },
      "cell_type": "code",
      "source": [
        "plt.figure()\n",
        "plt.plot(score[\"param_max_depth\"], \n",
        "         score[\"mean_train_score\"], \n",
        "         label=\"training accuracy\")\n",
        "plt.plot(score[\"param_max_depth\"], \n",
        "         score[\"mean_test_score\"], \n",
        "         label=\"test accuracy\")\n",
        "plt.xlabel(\"max_depth\")\n",
        "plt.ylabel(\"Accuracy\")\n",
        "plt.legend()\n",
        "plt.show()"
      ],
      "execution_count": 146,
      "outputs": [
        {
          "output_type": "display_data",
          "data": {
            "image/png": "[encoded data removed]",
            "text/plain": [
              "<matplotlib.figure.Figure at 0x7f7f416d7da0>"
            ]
          },
          "metadata": {
            "tags": []
          }
        }
      ]
    },
    {
      "metadata": {
        "id": "gm9fgQI7jFxa",
        "colab_type": "text",
        "_uuid": "bf427b46fcd2f2e2a494cb16cae3544a91871e6b"
      },
      "cell_type": "markdown",
      "source": [
        "<i>According to this plot above, the  optimal max_depth seems fall in (5,25)</i>"
      ]
    },
    {
      "metadata": {
        "id": "YcoVPDzbjaGt",
        "colab_type": "text",
        "_uuid": "d743275e66112e4080abbf1b37cc937840fd4dda"
      },
      "cell_type": "markdown",
      "source": [
        "### Tuning min_samples_leaf"
      ]
    },
    {
      "metadata": {
        "id": "_3_g1m48i4G7",
        "colab_type": "code",
        "outputId": "b19cd3a3-1f2d-499d-da2e-d4e9049e305c",
        "trusted": true,
        "_uuid": "cbb11d80243a614c65a21eda635859595020c3d7",
        "colab": {
          "base_uri": "https://localhost:8080/",
          "height": 204
        }
      },
      "cell_type": "code",
      "source": [
        "# GridSearchCV to find optimal max_depth\n",
        "from sklearn.model_selection import KFold\n",
        "from sklearn.model_selection import GridSearchCV\n",
        "\n",
        "\n",
        "# specify number of folds for k-fold CV\n",
        "n_folds = 5\n",
        "\n",
        "# parameters to build the model on\n",
        "parameters = {'min_samples_leaf': range(5, 200, 20)}\n",
        "\n",
        "# instantiate the model\n",
        "dtree = DecisionTreeClassifier(criterion = \"gini\", \n",
        "                               random_state = 100)\n",
        "\n",
        "# fit tree on training data\n",
        "tree = GridSearchCV(dtree, parameters, \n",
        "                    cv=n_folds, \n",
        "                   scoring=\"accuracy\")\n",
        "tree.fit(X_tr, Y_tr)"
      ],
      "execution_count": 147,
      "outputs": [
        {
          "output_type": "execute_result",
          "data": {
            "text/plain": [
              "GridSearchCV(cv=5, error_score='raise-deprecating',\n",
              "       estimator=DecisionTreeClassifier(class_weight=None, criterion='gini', max_depth=None,\n",
              "            max_features=None, max_leaf_nodes=None,\n",
              "            min_impurity_decrease=0.0, min_impurity_split=None,\n",
              "            min_samples_leaf=1, min_samples_split=2,\n",
              "            min_weight_fraction_leaf=0.0, presort=False, random_state=100,\n",
              "            splitter='best'),\n",
              "       fit_params=None, iid='warn', n_jobs=None,\n",
              "       param_grid={'min_samples_leaf': range(5, 200, 20)},\n",
              "       pre_dispatch='2*n_jobs', refit=True, return_train_score='warn',\n",
              "       scoring='accuracy', verbose=0)"
            ]
          },
          "metadata": {
            "tags": []
          },
          "execution_count": 147
        }
      ]
    },
    {
      "metadata": {
        "id": "7ve5dYipjsvk",
        "colab_type": "code",
        "outputId": "499ea3fe-1959-4ed2-ce30-f1a4f372c18b",
        "trusted": true,
        "_uuid": "7fbd5472ac1a5da32975fd70402cbf9501eef7fb",
        "colab": {
          "base_uri": "https://localhost:8080/",
          "height": 338
        }
      },
      "cell_type": "code",
      "source": [
        "score = tree.cv_results_\n",
        "pd.DataFrame(score).head()"
      ],
      "execution_count": 148,
      "outputs": [
        {
          "output_type": "execute_result",
          "data": {
            "text/html": [
              "<div>\n",
              "<style scoped>\n",
              "    .dataframe tbody tr th:only-of-type {\n",
              "        vertical-align: middle;\n",
              "    }\n",
              "\n",
              "    .dataframe tbody tr th {\n",
              "        vertical-align: top;\n",
              "    }\n",
              "\n",
              "    .dataframe thead th {\n",
              "        text-align: right;\n",
              "    }\n",
              "</style>\n",
              "<table border=\"1\" class=\"dataframe\">\n",
              "  <thead>\n",
              "    <tr style=\"text-align: right;\">\n",
              "      <th></th>\n",
              "      <th>mean_fit_time</th>\n",
              "      <th>mean_score_time</th>\n",
              "      <th>mean_test_score</th>\n",
              "      <th>mean_train_score</th>\n",
              "      <th>param_min_samples_leaf</th>\n",
              "      <th>params</th>\n",
              "      <th>rank_test_score</th>\n",
              "      <th>split0_test_score</th>\n",
              "      <th>split0_train_score</th>\n",
              "      <th>split1_test_score</th>\n",
              "      <th>...</th>\n",
              "      <th>split2_test_score</th>\n",
              "      <th>split2_train_score</th>\n",
              "      <th>split3_test_score</th>\n",
              "      <th>split3_train_score</th>\n",
              "      <th>split4_test_score</th>\n",
              "      <th>split4_train_score</th>\n",
              "      <th>std_fit_time</th>\n",
              "      <th>std_score_time</th>\n",
              "      <th>std_test_score</th>\n",
              "      <th>std_train_score</th>\n",
              "    </tr>\n",
              "  </thead>\n",
              "  <tbody>\n",
              "    <tr>\n",
              "      <th>0</th>\n",
              "      <td>0.07</td>\n",
              "      <td>0.00</td>\n",
              "      <td>0.82</td>\n",
              "      <td>0.93</td>\n",
              "      <td>5</td>\n",
              "      <td>{'min_samples_leaf': 5}</td>\n",
              "      <td>1</td>\n",
              "      <td>0.72</td>\n",
              "      <td>0.94</td>\n",
              "      <td>0.82</td>\n",
              "      <td>...</td>\n",
              "      <td>0.85</td>\n",
              "      <td>0.92</td>\n",
              "      <td>0.85</td>\n",
              "      <td>0.92</td>\n",
              "      <td>0.86</td>\n",
              "      <td>0.92</td>\n",
              "      <td>0.00</td>\n",
              "      <td>0.00</td>\n",
              "      <td>0.05</td>\n",
              "      <td>0.01</td>\n",
              "    </tr>\n",
              "    <tr>\n",
              "      <th>1</th>\n",
              "      <td>0.06</td>\n",
              "      <td>0.00</td>\n",
              "      <td>0.81</td>\n",
              "      <td>0.85</td>\n",
              "      <td>25</td>\n",
              "      <td>{'min_samples_leaf': 25}</td>\n",
              "      <td>2</td>\n",
              "      <td>0.71</td>\n",
              "      <td>0.87</td>\n",
              "      <td>0.82</td>\n",
              "      <td>...</td>\n",
              "      <td>0.83</td>\n",
              "      <td>0.85</td>\n",
              "      <td>0.84</td>\n",
              "      <td>0.85</td>\n",
              "      <td>0.83</td>\n",
              "      <td>0.85</td>\n",
              "      <td>0.00</td>\n",
              "      <td>0.00</td>\n",
              "      <td>0.05</td>\n",
              "      <td>0.01</td>\n",
              "    </tr>\n",
              "    <tr>\n",
              "      <th>2</th>\n",
              "      <td>0.05</td>\n",
              "      <td>0.00</td>\n",
              "      <td>0.80</td>\n",
              "      <td>0.84</td>\n",
              "      <td>45</td>\n",
              "      <td>{'min_samples_leaf': 45}</td>\n",
              "      <td>5</td>\n",
              "      <td>0.70</td>\n",
              "      <td>0.85</td>\n",
              "      <td>0.80</td>\n",
              "      <td>...</td>\n",
              "      <td>0.83</td>\n",
              "      <td>0.83</td>\n",
              "      <td>0.84</td>\n",
              "      <td>0.83</td>\n",
              "      <td>0.82</td>\n",
              "      <td>0.83</td>\n",
              "      <td>0.00</td>\n",
              "      <td>0.00</td>\n",
              "      <td>0.05</td>\n",
              "      <td>0.01</td>\n",
              "    </tr>\n",
              "    <tr>\n",
              "      <th>3</th>\n",
              "      <td>0.05</td>\n",
              "      <td>0.00</td>\n",
              "      <td>0.80</td>\n",
              "      <td>0.83</td>\n",
              "      <td>65</td>\n",
              "      <td>{'min_samples_leaf': 65}</td>\n",
              "      <td>6</td>\n",
              "      <td>0.72</td>\n",
              "      <td>0.84</td>\n",
              "      <td>0.81</td>\n",
              "      <td>...</td>\n",
              "      <td>0.82</td>\n",
              "      <td>0.82</td>\n",
              "      <td>0.83</td>\n",
              "      <td>0.82</td>\n",
              "      <td>0.81</td>\n",
              "      <td>0.82</td>\n",
              "      <td>0.00</td>\n",
              "      <td>0.00</td>\n",
              "      <td>0.04</td>\n",
              "      <td>0.01</td>\n",
              "    </tr>\n",
              "    <tr>\n",
              "      <th>4</th>\n",
              "      <td>0.04</td>\n",
              "      <td>0.00</td>\n",
              "      <td>0.80</td>\n",
              "      <td>0.82</td>\n",
              "      <td>85</td>\n",
              "      <td>{'min_samples_leaf': 85}</td>\n",
              "      <td>3</td>\n",
              "      <td>0.75</td>\n",
              "      <td>0.84</td>\n",
              "      <td>0.80</td>\n",
              "      <td>...</td>\n",
              "      <td>0.82</td>\n",
              "      <td>0.82</td>\n",
              "      <td>0.83</td>\n",
              "      <td>0.82</td>\n",
              "      <td>0.81</td>\n",
              "      <td>0.82</td>\n",
              "      <td>0.00</td>\n",
              "      <td>0.00</td>\n",
              "      <td>0.03</td>\n",
              "      <td>0.01</td>\n",
              "    </tr>\n",
              "  </tbody>\n",
              "</table>\n",
              "<p>5 rows × 21 columns</p>\n",
              "</div>"
            ],
            "text/plain": [
              "   mean_fit_time  mean_score_time  mean_test_score  mean_train_score  \\\n",
              "0           0.07             0.00             0.82              0.93   \n",
              "1           0.06             0.00             0.81              0.85   \n",
              "2           0.05             0.00             0.80              0.84   \n",
              "3           0.05             0.00             0.80              0.83   \n",
              "4           0.04             0.00             0.80              0.82   \n",
              "\n",
              "  param_min_samples_leaf                    params  rank_test_score  \\\n",
              "0                      5   {'min_samples_leaf': 5}                1   \n",
              "1                     25  {'min_samples_leaf': 25}                2   \n",
              "2                     45  {'min_samples_leaf': 45}                5   \n",
              "3                     65  {'min_samples_leaf': 65}                6   \n",
              "4                     85  {'min_samples_leaf': 85}                3   \n",
              "\n",
              "   split0_test_score  split0_train_score  split1_test_score       ...         \\\n",
              "0               0.72                0.94               0.82       ...          \n",
              "1               0.71                0.87               0.82       ...          \n",
              "2               0.70                0.85               0.80       ...          \n",
              "3               0.72                0.84               0.81       ...          \n",
              "4               0.75                0.84               0.80       ...          \n",
              "\n",
              "   split2_test_score  split2_train_score  split3_test_score  \\\n",
              "0               0.85                0.92               0.85   \n",
              "1               0.83                0.85               0.84   \n",
              "2               0.83                0.83               0.84   \n",
              "3               0.82                0.82               0.83   \n",
              "4               0.82                0.82               0.83   \n",
              "\n",
              "   split3_train_score  split4_test_score  split4_train_score  std_fit_time  \\\n",
              "0                0.92               0.86                0.92          0.00   \n",
              "1                0.85               0.83                0.85          0.00   \n",
              "2                0.83               0.82                0.83          0.00   \n",
              "3                0.82               0.81                0.82          0.00   \n",
              "4                0.82               0.81                0.82          0.00   \n",
              "\n",
              "   std_score_time  std_test_score  std_train_score  \n",
              "0            0.00            0.05             0.01  \n",
              "1            0.00            0.05             0.01  \n",
              "2            0.00            0.05             0.01  \n",
              "3            0.00            0.04             0.01  \n",
              "4            0.00            0.03             0.01  \n",
              "\n",
              "[5 rows x 21 columns]"
            ]
          },
          "metadata": {
            "tags": []
          },
          "execution_count": 148
        }
      ]
    },
    {
      "metadata": {
        "id": "9RVzEhQKjxhl",
        "colab_type": "code",
        "outputId": "19db9918-70c6-4e5f-c14d-47866e18afe1",
        "trusted": true,
        "_uuid": "facc3e0fdb7eaacac3c73c3445672d05422cdf17",
        "colab": {
          "base_uri": "https://localhost:8080/",
          "height": 361
        }
      },
      "cell_type": "code",
      "source": [
        "# plotting accuracies with min_samples_leaf\n",
        "plt.figure()\n",
        "plt.plot(score[\"param_min_samples_leaf\"], \n",
        "         score[\"mean_train_score\"], \n",
        "         label=\"training accuracy\")\n",
        "plt.plot(score[\"param_min_samples_leaf\"], \n",
        "         score[\"mean_test_score\"], \n",
        "         label=\"test accuracy\")\n",
        "plt.xlabel(\"min_samples_leaf\")\n",
        "plt.ylabel(\"Accuracy\")\n",
        "plt.legend()\n",
        "plt.show()"
      ],
      "execution_count": 149,
      "outputs": [
        {
          "output_type": "display_data",
          "data": {
            "image/png": "[encoded data removed]",
            "text/plain": [
              "<matplotlib.figure.Figure at 0x7f7f416d7710>"
            ]
          },
          "metadata": {
            "tags": []
          }
        }
      ]
    },
    {
      "metadata": {
        "id": "3LGhDazqkBmu",
        "colab_type": "text",
        "_uuid": "657f375d923ee5c6719654dd01e9047f4352bb24"
      },
      "cell_type": "markdown",
      "source": [
        "**According to this plot above, the optimal min_samples_leaf seems fall in (10,100)**"
      ]
    },
    {
      "metadata": {
        "id": "S_XGfWwUE4nb",
        "colab_type": "text",
        "_uuid": "036b92e0567c8caf08c6ffc54a8efec1a0c9c64f"
      },
      "cell_type": "markdown",
      "source": [
        "### Tuning min_samples_split"
      ]
    },
    {
      "metadata": {
        "id": "JkuF7o4TkdAZ",
        "colab_type": "code",
        "outputId": "44ddfb08-00a6-4777-f21a-7ad7e0655e3f",
        "trusted": true,
        "_uuid": "c11067605dac1c68f6d1931eee8c0589c7846daf",
        "colab": {
          "base_uri": "https://localhost:8080/",
          "height": 204
        }
      },
      "cell_type": "code",
      "source": [
        "# GridSearchCV to find optimal min_samples_split\n",
        "from sklearn.model_selection import KFold\n",
        "from sklearn.model_selection import GridSearchCV\n",
        "\n",
        "\n",
        "# specify number of folds for k-fold CV\n",
        "n_folds = 5\n",
        "\n",
        "# parameters to build the model on\n",
        "parameters = {'min_samples_split': range(5, 200, 20)}\n",
        "\n",
        "# instantiate the model\n",
        "dtree = DecisionTreeClassifier(criterion = \"gini\", \n",
        "                               random_state = 100)\n",
        "\n",
        "# fit tree on training data\n",
        "tree2 = GridSearchCV(dtree, parameters, \n",
        "                    cv=n_folds, \n",
        "                   scoring=\"accuracy\")\n",
        "tree2.fit(X_tr, Y_tr)"
      ],
      "execution_count": 150,
      "outputs": [
        {
          "output_type": "execute_result",
          "data": {
            "text/plain": [
              "GridSearchCV(cv=5, error_score='raise-deprecating',\n",
              "       estimator=DecisionTreeClassifier(class_weight=None, criterion='gini', max_depth=None,\n",
              "            max_features=None, max_leaf_nodes=None,\n",
              "            min_impurity_decrease=0.0, min_impurity_split=None,\n",
              "            min_samples_leaf=1, min_samples_split=2,\n",
              "            min_weight_fraction_leaf=0.0, presort=False, random_state=100,\n",
              "            splitter='best'),\n",
              "       fit_params=None, iid='warn', n_jobs=None,\n",
              "       param_grid={'min_samples_split': range(5, 200, 20)},\n",
              "       pre_dispatch='2*n_jobs', refit=True, return_train_score='warn',\n",
              "       scoring='accuracy', verbose=0)"
            ]
          },
          "metadata": {
            "tags": []
          },
          "execution_count": 150
        }
      ]
    },
    {
      "metadata": {
        "id": "rB-QATY-kjib",
        "colab_type": "code",
        "outputId": "817de882-eb4a-40fb-9bec-ecd8cea3c1e2",
        "trusted": true,
        "_uuid": "6cc3c7689c25b4ca3e7daf1292861fd8f87ad239",
        "colab": {
          "base_uri": "https://localhost:8080/",
          "height": 361
        }
      },
      "cell_type": "code",
      "source": [
        "# plotting accuracies with min_samples_leaf\n",
        "scores = tree2.cv_results_\n",
        "plt.figure()\n",
        "\n",
        "plt.plot(scores[\"param_min_samples_split\"], \n",
        "         scores[\"mean_train_score\"], \n",
        "         label=\"training accuracy\")\n",
        "plt.plot(scores[\"param_min_samples_split\"], \n",
        "         scores[\"mean_test_score\"], \n",
        "         label=\"test accuracy\")\n",
        "plt.xlabel(\"min_samples_split\")\n",
        "plt.ylabel(\"Accuracy\")\n",
        "plt.legend()\n",
        "plt.show()"
      ],
      "execution_count": 75,
      "outputs": [
        {
          "output_type": "display_data",
          "data": {
            "image/png": "[encoded data removed]",
            "text/plain": [
              "<matplotlib.figure.Figure at 0x7f7f428c1c88>"
            ]
          },
          "metadata": {
            "tags": []
          }
        }
      ]
    },
    {
      "metadata": {
        "id": "tJsqvSxel9GD",
        "colab_type": "text",
        "_uuid": "89466df012cd650a403881c2bea61075826f40d0"
      },
      "cell_type": "markdown",
      "source": [
        "**best Min_samples_splits seems fall in the range(25,250)**"
      ]
    },
    {
      "metadata": {
        "id": "Yk1LqruXkxee",
        "colab_type": "code",
        "trusted": true,
        "_uuid": "59c65c1245ac0e36083242b43ba5dc31100b4e14",
        "outputId": "def1571c-9903-4c77-bafb-236139bc611f",
        "colab": {
          "base_uri": "https://localhost:8080/",
          "height": 326
        }
      },
      "cell_type": "code",
      "source": [
        "# Create the parameter grid \n",
        "param_grid = {\n",
        "    'max_depth': range(5, 20, 4),\n",
        "    'min_samples_leaf': range(10, 100, 50),\n",
        "    'min_samples_split': range(25, 250, 20),\n",
        "    'criterion': [\"entropy\", \"gini\"]\n",
        "}\n",
        "\n",
        "n_folds = 6\n",
        "\n",
        "# Instantiate the grid search model\n",
        "dtree = DecisionTreeClassifier()\n",
        "grid_search = GridSearchCV(estimator = dtree, param_grid = param_grid, \n",
        "                          cv = n_folds, verbose = 1,n_jobs=-1)\n",
        "\n",
        "# Fit the grid search to the data\n",
        "grid_search.fit(X_tr, Y_tr)"
      ],
      "execution_count": 151,
      "outputs": [
        {
          "output_type": "stream",
          "text": [
            "Fitting 6 folds for each of 192 candidates, totalling 1152 fits\n"
          ],
          "name": "stdout"
        },
        {
          "output_type": "stream",
          "text": [
            "[Parallel(n_jobs=-1)]: Using backend LokyBackend with 2 concurrent workers.\n",
            "[Parallel(n_jobs=-1)]: Done  72 tasks      | elapsed:    4.0s\n",
            "[Parallel(n_jobs=-1)]: Done 372 tasks      | elapsed:   20.5s\n",
            "[Parallel(n_jobs=-1)]: Done 872 tasks      | elapsed:   42.5s\n",
            "[Parallel(n_jobs=-1)]: Done 1152 out of 1152 | elapsed:   53.6s finished\n"
          ],
          "name": "stderr"
        },
        {
          "output_type": "execute_result",
          "data": {
            "text/plain": [
              "GridSearchCV(cv=6, error_score='raise-deprecating',\n",
              "       estimator=DecisionTreeClassifier(class_weight=None, criterion='gini', max_depth=None,\n",
              "            max_features=None, max_leaf_nodes=None,\n",
              "            min_impurity_decrease=0.0, min_impurity_split=None,\n",
              "            min_samples_leaf=1, min_samples_split=2,\n",
              "            min_weight_fraction_leaf=0.0, presort=False, random_state=None,\n",
              "            splitter='best'),\n",
              "       fit_params=None, iid='warn', n_jobs=-1,\n",
              "       param_grid={'max_depth': range(5, 20, 4), 'min_samples_leaf': range(10, 100, 50), 'min_samples_split': range(25, 250, 20), 'criterion': ['entropy', 'gini']},\n",
              "       pre_dispatch='2*n_jobs', refit=True, return_train_score='warn',\n",
              "       scoring=None, verbose=1)"
            ]
          },
          "metadata": {
            "tags": []
          },
          "execution_count": 151
        }
      ]
    },
    {
      "metadata": {
        "id": "PaJcaYRLmxwO",
        "colab_type": "code",
        "trusted": true,
        "_uuid": "712a4945a0419dcd735993b9a2a8f7501a515758",
        "outputId": "ed5d73ed-8462-4b6c-f28c-a8f2338a9b7e",
        "colab": {
          "base_uri": "https://localhost:8080/",
          "height": 139
        }
      },
      "cell_type": "code",
      "source": [
        "# cv results\n",
        "cv_results = pd.DataFrame(grid_search.cv_results_)\n",
        "cv_results\n",
        "# printing the optimal accuracy score and hyperparameters\n",
        "print(\"Best Accuracy\", grid_search.best_score_, \"Using: \",grid_search.best_estimator_)\n"
      ],
      "execution_count": 77,
      "outputs": [
        {
          "output_type": "stream",
          "text": [
            "Best Accuracy 0.8202844194405375 Using:  DecisionTreeClassifier(class_weight=None, criterion='gini', max_depth=13,\n",
            "            max_features=None, max_leaf_nodes=None,\n",
            "            min_impurity_decrease=0.0, min_impurity_split=None,\n",
            "            min_samples_leaf=10, min_samples_split=85,\n",
            "            min_weight_fraction_leaf=0.0, presort=False, random_state=None,\n",
            "            splitter='best')\n"
          ],
          "name": "stdout"
        }
      ]
    },
    {
      "metadata": {
        "id": "jM-aGDKRFINE",
        "colab_type": "text",
        "_uuid": "08147e5f22b547e32da15bb55d1dff25448e1062"
      },
      "cell_type": "markdown",
      "source": [
        "### Final Tree"
      ]
    },
    {
      "metadata": {
        "id": "hZv6iq_enX9c",
        "colab_type": "code",
        "outputId": "21abf8eb-e542-407a-a9af-2f65fc0edece",
        "trusted": true,
        "_uuid": "90c5eb50e3af9f837872b69ea0e97c885f8f3ad8",
        "colab": {
          "base_uri": "https://localhost:8080/",
          "height": 119
        }
      },
      "cell_type": "code",
      "source": [
        "# model with optimal hyperparameters\n",
        "clf_gini = DecisionTreeClassifier(class_weight=None, criterion='gini', max_depth=13,\n",
        "            max_features=None, max_leaf_nodes=None,\n",
        "            min_impurity_decrease=0.0, min_impurity_split=None,\n",
        "            min_samples_leaf=10, min_samples_split=85,\n",
        "            min_weight_fraction_leaf=0.0, presort=False, random_state=None,\n",
        "            splitter='best')\n",
        "clf_gini.fit(X_tr, Y_tr)"
      ],
      "execution_count": 152,
      "outputs": [
        {
          "output_type": "execute_result",
          "data": {
            "text/plain": [
              "DecisionTreeClassifier(class_weight=None, criterion='gini', max_depth=13,\n",
              "            max_features=None, max_leaf_nodes=None,\n",
              "            min_impurity_decrease=0.0, min_impurity_split=None,\n",
              "            min_samples_leaf=10, min_samples_split=85,\n",
              "            min_weight_fraction_leaf=0.0, presort=False, random_state=None,\n",
              "            splitter='best')"
            ]
          },
          "metadata": {
            "tags": []
          },
          "execution_count": 152
        }
      ]
    },
    {
      "metadata": {
        "id": "cFDroLQ5n9sG",
        "colab_type": "code",
        "outputId": "defca2eb-8a79-4857-be58-055fbcb0d763",
        "trusted": true,
        "_uuid": "0d4f5b55f5b8dc19e7a116f23a713cf3a7c15535",
        "colab": {
          "base_uri": "https://localhost:8080/",
          "height": 34
        }
      },
      "cell_type": "code",
      "source": [
        "print ('Accuracy Score for Decision Tree Final Model :',clf_gini.score(X_test,Y_test))"
      ],
      "execution_count": 153,
      "outputs": [
        {
          "output_type": "stream",
          "text": [
            "Accuracy Score for Decision Tree Final Model : 0.802\n"
          ],
          "name": "stdout"
        }
      ]
    },
    {
      "metadata": {
        "id": "ihTIohN3rO4a",
        "colab_type": "code",
        "outputId": "3452c49c-2992-4586-ae31-4d26477520f1",
        "trusted": false,
        "_uuid": "b4765e5f02805f6c63d234e12079512286a3912c",
        "colab": {
          "base_uri": "https://localhost:8080/",
          "height": 34
        }
      },
      "cell_type": "code",
      "source": [
        "X_tr.shape"
      ],
      "execution_count": 154,
      "outputs": [
        {
          "output_type": "execute_result",
          "data": {
            "text/plain": [
              "(12680, 13)"
            ]
          },
          "metadata": {
            "tags": []
          },
          "execution_count": 154
        }
      ]
    },
    {
      "metadata": {
        "id": "lYCOIFjiFMEl",
        "colab_type": "text",
        "_uuid": "a11f96169acd553510c85829693b64ccad3cfbad"
      },
      "cell_type": "markdown",
      "source": [
        "## Random Forest"
      ]
    },
    {
      "metadata": {
        "id": "nzN9001Jpfk-",
        "colab_type": "text"
      },
      "cell_type": "markdown",
      "source": [
        "### Default parameters"
      ]
    },
    {
      "metadata": {
        "id": "a3VhjdDXMydG",
        "colab_type": "code",
        "trusted": true,
        "_uuid": "51cc90d6a1298574a0186acbf62dfc1a76cbd670",
        "colab": {}
      },
      "cell_type": "code",
      "source": [
        "from sklearn.utils import shuffle\n",
        "one_hot_encoder_data = shuffle(one_hot_encoder_data)\n",
        "X = one_hot_encoder_data.iloc[:,:-1].values # Credit Score through Estimated Salary\n",
        "Y = one_hot_encoder_data.iloc[:, -1].values # Exited\n",
        "from sklearn.model_selection import train_test_split\n",
        "X_train, X_test, Y_train, Y_test = train_test_split(X,Y, test_size = 0.2, random_state = 25)"
      ],
      "execution_count": 0,
      "outputs": []
    },
    {
      "metadata": {
        "id": "k6cCNDLxNEJO",
        "colab_type": "code",
        "trusted": true,
        "_uuid": "924db0dbfc08ac12eef40d62d29ae4da8e894179",
        "colab": {}
      },
      "cell_type": "code",
      "source": [
        "from sklearn.preprocessing import StandardScaler\n",
        "from sklearn import preprocessing\n",
        "sc=StandardScaler()\n",
        "lb=preprocessing.LabelEncoder()\n",
        "X_train = sc.fit_transform(X_train)\n",
        "X_test = sc.transform(X_test)"
      ],
      "execution_count": 0,
      "outputs": []
    },
    {
      "metadata": {
        "id": "F7Oxv94WpopL",
        "colab_type": "code",
        "colab": {}
      },
      "cell_type": "code",
      "source": [
        "from imblearn.over_sampling import SMOTE\n",
        "sm = SMOTE(kind = \"regular\")\n",
        "X_tr,Y_tr = sm.fit_sample(X_train,Y_train)"
      ],
      "execution_count": 0,
      "outputs": []
    },
    {
      "metadata": {
        "id": "5qsQk5yiFhBm",
        "colab_type": "code",
        "outputId": "ddeb4a74-e711-4443-fba2-02502868384f",
        "trusted": true,
        "_uuid": "18d8e154c3cbfb6cffaee605930cfa42eca87197",
        "colab": {
          "base_uri": "https://localhost:8080/",
          "height": 34
        }
      },
      "cell_type": "code",
      "source": [
        "from sklearn.ensemble import RandomForestClassifier\n",
        "from sklearn import metrics\n",
        "\n",
        "model_rf = RandomForestClassifier()\n",
        "model_rf.fit(X_tr, Y_tr)\n",
        "\n",
        "# Make predictions\n",
        "prediction_test = model_rf.predict(X_test)\n",
        "print ('Randon Forest Accuracy with Default Hyperparameter',metrics.accuracy_score(Y_test, prediction_test))"
      ],
      "execution_count": 172,
      "outputs": [
        {
          "output_type": "stream",
          "text": [
            "Randon Forest Accuracy with Default Hyperparameter 0.8245\n"
          ],
          "name": "stdout"
        }
      ]
    },
    {
      "metadata": {
        "id": "xreAycWTFswX",
        "colab_type": "text",
        "_uuid": "6fba3512bf7946db49fe04825023d20f0f7b1d8c"
      },
      "cell_type": "markdown",
      "source": [
        "### Tuning max_depth"
      ]
    },
    {
      "metadata": {
        "id": "23mD0MYbFqsG",
        "colab_type": "code",
        "outputId": "57b8c55b-d797-4b9d-b5bf-d632a68259f1",
        "trusted": true,
        "_uuid": "eac287674414458099fe0ff3fd0175b1968242cf",
        "colab": {
          "base_uri": "https://localhost:8080/",
          "height": 221
        }
      },
      "cell_type": "code",
      "source": [
        "# GridSearchCV to find optimal n_estimators\n",
        "from sklearn.model_selection import KFold\n",
        "from sklearn.model_selection import GridSearchCV\n",
        "\n",
        "\n",
        "# specify number of folds for k-fold CV\n",
        "n_folds = 5\n",
        "\n",
        "# parameters to build the model on\n",
        "parameters = {'max_depth': range(2, 20, 5)}\n",
        "\n",
        "# instantiate the model\n",
        "rf = RandomForestClassifier()\n",
        "\n",
        "\n",
        "# fit tree on training data\n",
        "rf = GridSearchCV(rf, parameters, \n",
        "                    cv=n_folds, \n",
        "                   scoring=\"accuracy\")\n",
        "rf.fit(X_tr, Y_tr)"
      ],
      "execution_count": 158,
      "outputs": [
        {
          "output_type": "execute_result",
          "data": {
            "text/plain": [
              "GridSearchCV(cv=5, error_score='raise-deprecating',\n",
              "       estimator=RandomForestClassifier(bootstrap=True, class_weight=None, criterion='gini',\n",
              "            max_depth=None, max_features='auto', max_leaf_nodes=None,\n",
              "            min_impurity_decrease=0.0, min_impurity_split=None,\n",
              "            min_samples_leaf=1, min_samples_split=2,\n",
              "            min_weight_fraction_leaf=0.0, n_estimators='warn', n_jobs=None,\n",
              "            oob_score=False, random_state=None, verbose=0,\n",
              "            warm_start=False),\n",
              "       fit_params=None, iid='warn', n_jobs=None,\n",
              "       param_grid={'max_depth': range(2, 20, 5)}, pre_dispatch='2*n_jobs',\n",
              "       refit=True, return_train_score='warn', scoring='accuracy',\n",
              "       verbose=0)"
            ]
          },
          "metadata": {
            "tags": []
          },
          "execution_count": 158
        }
      ]
    },
    {
      "metadata": {
        "id": "lYTxD_81F9Qn",
        "colab_type": "code",
        "outputId": "e5d5f4e0-9086-4baf-e741-e433c29ba4a8",
        "trusted": true,
        "_uuid": "fee56bebdd6174b3112a579620fe8b4f397c3a4c",
        "colab": {
          "base_uri": "https://localhost:8080/",
          "height": 361
        }
      },
      "cell_type": "code",
      "source": [
        "scores = rf.cv_results_\n",
        "plt.figure()\n",
        "plt.plot(scores[\"param_max_depth\"], \n",
        "         scores[\"mean_train_score\"], \n",
        "         label=\"training accuracy\")\n",
        "plt.plot(scores[\"param_max_depth\"], \n",
        "         scores[\"mean_test_score\"], \n",
        "         label=\"test accuracy\")\n",
        "plt.xlabel(\"max_depth\")\n",
        "plt.ylabel(\"Accuracy\")\n",
        "plt.legend()\n",
        "plt.show()"
      ],
      "execution_count": 159,
      "outputs": [
        {
          "output_type": "display_data",
          "data": {
            "image/png": "[encoded data removed]",
            "text/plain": [
              "<matplotlib.figure.Figure at 0x7f7f41675da0>"
            ]
          },
          "metadata": {
            "tags": []
          }
        }
      ]
    },
    {
      "metadata": {
        "id": "UI1cTdCbGNSK",
        "colab_type": "text",
        "_uuid": "38e2143620974d9fcdac6cd5ba29a752ac827df3"
      },
      "cell_type": "markdown",
      "source": [
        "### Tuning min_samples_leaf"
      ]
    },
    {
      "metadata": {
        "id": "uka5lQZ9GTNI",
        "colab_type": "code",
        "outputId": "cf02b4c2-688e-43f9-8918-95931314352d",
        "trusted": true,
        "_uuid": "d176c8c48af5c6234a8449ae3808b68988cfbc35",
        "colab": {
          "base_uri": "https://localhost:8080/",
          "height": 221
        }
      },
      "cell_type": "code",
      "source": [
        "# GridSearchCV to find optimal min_samples_leaf\n",
        "from sklearn.model_selection import KFold\n",
        "from sklearn.model_selection import GridSearchCV\n",
        "\n",
        "\n",
        "# specify number of folds for k-fold CV\n",
        "n_folds = 5\n",
        "\n",
        "# parameters to build the model on\n",
        "parameters = {'min_samples_leaf': range(50, 400, 10)}\n",
        "\n",
        "# instantiate the model\n",
        "rf = RandomForestClassifier()\n",
        "\n",
        "\n",
        "# fit tree on training data\n",
        "rf = GridSearchCV(rf, parameters, \n",
        "                    cv=n_folds, \n",
        "                   scoring=\"accuracy\")\n",
        "rf.fit(X_tr, Y_tr)"
      ],
      "execution_count": 160,
      "outputs": [
        {
          "output_type": "execute_result",
          "data": {
            "text/plain": [
              "GridSearchCV(cv=5, error_score='raise-deprecating',\n",
              "       estimator=RandomForestClassifier(bootstrap=True, class_weight=None, criterion='gini',\n",
              "            max_depth=None, max_features='auto', max_leaf_nodes=None,\n",
              "            min_impurity_decrease=0.0, min_impurity_split=None,\n",
              "            min_samples_leaf=1, min_samples_split=2,\n",
              "            min_weight_fraction_leaf=0.0, n_estimators='warn', n_jobs=None,\n",
              "            oob_score=False, random_state=None, verbose=0,\n",
              "            warm_start=False),\n",
              "       fit_params=None, iid='warn', n_jobs=None,\n",
              "       param_grid={'min_samples_leaf': range(50, 400, 10)},\n",
              "       pre_dispatch='2*n_jobs', refit=True, return_train_score='warn',\n",
              "       scoring='accuracy', verbose=0)"
            ]
          },
          "metadata": {
            "tags": []
          },
          "execution_count": 160
        }
      ]
    },
    {
      "metadata": {
        "id": "b-hz93RsGb2q",
        "colab_type": "code",
        "outputId": "8f4bca76-583d-4ed8-b3ed-37a5d11693a0",
        "trusted": true,
        "_uuid": "03b9a438dd2ad67e51f8b9cee527134fa56a86a4",
        "colab": {
          "base_uri": "https://localhost:8080/",
          "height": 361
        }
      },
      "cell_type": "code",
      "source": [
        "# scores of GridSearch CV\n",
        "scores = rf.cv_results_\n",
        "\n",
        "# plotting accuracies with min_samples_leaf\n",
        "plt.figure()\n",
        "plt.plot(scores[\"param_min_samples_leaf\"], \n",
        "         scores[\"mean_train_score\"], \n",
        "         label=\"training accuracy\")\n",
        "plt.plot(scores[\"param_min_samples_leaf\"], \n",
        "         scores[\"mean_test_score\"], \n",
        "         label=\"test accuracy\")\n",
        "plt.xlabel(\"min_samples_leaf\")\n",
        "plt.ylabel(\"Accuracy\")\n",
        "plt.legend()\n",
        "plt.show()"
      ],
      "execution_count": 161,
      "outputs": [
        {
          "output_type": "display_data",
          "data": {
            "image/png": "[encoded data removed]",
            "text/plain": [
              "<matplotlib.figure.Figure at 0x7f7f41634a20>"
            ]
          },
          "metadata": {
            "tags": []
          }
        }
      ]
    },
    {
      "metadata": {
        "id": "hSHr3hffGnRc",
        "colab_type": "text",
        "_uuid": "adcaa0afd86e3150beefa64c9d2cb3e02947f433"
      },
      "cell_type": "markdown",
      "source": [
        "### Tuning min_samples_split"
      ]
    },
    {
      "metadata": {
        "id": "R-buOSS6GqYn",
        "colab_type": "code",
        "outputId": "4b271324-426b-4b01-f439-98323c619de6",
        "trusted": true,
        "_uuid": "14adbdbe1b60089cb9ea60215e01c9f5afe3edea",
        "colab": {
          "base_uri": "https://localhost:8080/",
          "height": 221
        }
      },
      "cell_type": "code",
      "source": [
        "# GridSearchCV to find optimal min_samples_split\n",
        "from sklearn.model_selection import KFold\n",
        "from sklearn.model_selection import GridSearchCV\n",
        "\n",
        "\n",
        "# specify number of folds for k-fold CV\n",
        "n_folds = 5\n",
        "\n",
        "# parameters to build the model on\n",
        "parameters = {'min_samples_split': range(100, 500, 25)}\n",
        "\n",
        "# instantiate the model\n",
        "rf = RandomForestClassifier()\n",
        "\n",
        "\n",
        "# fit tree on training data\n",
        "rf = GridSearchCV(rf, parameters, \n",
        "                    cv=n_folds, \n",
        "                   scoring=\"accuracy\")\n",
        "rf.fit(X_tr, Y_tr)"
      ],
      "execution_count": 162,
      "outputs": [
        {
          "output_type": "execute_result",
          "data": {
            "text/plain": [
              "GridSearchCV(cv=5, error_score='raise-deprecating',\n",
              "       estimator=RandomForestClassifier(bootstrap=True, class_weight=None, criterion='gini',\n",
              "            max_depth=None, max_features='auto', max_leaf_nodes=None,\n",
              "            min_impurity_decrease=0.0, min_impurity_split=None,\n",
              "            min_samples_leaf=1, min_samples_split=2,\n",
              "            min_weight_fraction_leaf=0.0, n_estimators='warn', n_jobs=None,\n",
              "            oob_score=False, random_state=None, verbose=0,\n",
              "            warm_start=False),\n",
              "       fit_params=None, iid='warn', n_jobs=None,\n",
              "       param_grid={'min_samples_split': range(100, 500, 25)},\n",
              "       pre_dispatch='2*n_jobs', refit=True, return_train_score='warn',\n",
              "       scoring='accuracy', verbose=0)"
            ]
          },
          "metadata": {
            "tags": []
          },
          "execution_count": 162
        }
      ]
    },
    {
      "metadata": {
        "id": "69kkoIVeG6zN",
        "colab_type": "code",
        "outputId": "2b448f91-7516-471c-f500-db2b8c1b095c",
        "trusted": true,
        "_uuid": "00ecf011468fcfc61139335027e1251e6c4f3b99",
        "colab": {
          "base_uri": "https://localhost:8080/",
          "height": 365
        }
      },
      "cell_type": "code",
      "source": [
        "# scores of GridSearch CV\n",
        "scores = rf.cv_results_\n",
        "\n",
        "# plotting accuracies with min_samples_split\n",
        "plt.figure()\n",
        "plt.plot(scores[\"param_min_samples_split\"], \n",
        "         scores[\"mean_train_score\"], \n",
        "         label=\"training accuracy\")\n",
        "plt.plot(scores[\"param_min_samples_split\"], \n",
        "         scores[\"mean_test_score\"], \n",
        "         label=\"test accuracy\")\n",
        "plt.xlabel(\"min_samples_split\")\n",
        "plt.ylabel(\"Accuracy\")\n",
        "plt.legend()\n",
        "plt.show()"
      ],
      "execution_count": 163,
      "outputs": [
        {
          "output_type": "display_data",
          "data": {
            "image/png": "[encoded data removed]",
            "text/plain": [
              "<matplotlib.figure.Figure at 0x7f7f4152f6d8>"
            ]
          },
          "metadata": {
            "tags": []
          }
        }
      ]
    },
    {
      "metadata": {
        "id": "CopRYCDKG_GG",
        "colab_type": "code",
        "trusted": true,
        "_uuid": "846a8e1a37813a80d53b885b438615884c72e354",
        "colab": {}
      },
      "cell_type": "code",
      "source": [
        "# Create the parameter grid based on the results of random search \n",
        "param_grid = {\n",
        "    'max_depth': [10,12],\n",
        "    'min_samples_leaf': range(100, 250, 50),\n",
        "    'min_samples_split': range(100, 350, 50),\n",
        "    'n_estimators': [500,700], \n",
        "    'max_features': range(1, 13, 3)\n",
        "}\n",
        "# Create a based model\n",
        "rf = RandomForestClassifier()\n",
        "# Instantiate the grid search model\n",
        "grid_search = GridSearchCV(estimator = rf, param_grid = param_grid, \n",
        "                          cv = 3, n_jobs = -1,verbose = 1)"
      ],
      "execution_count": 0,
      "outputs": []
    },
    {
      "metadata": {
        "id": "wZK8JXoWp5Xz",
        "colab_type": "text"
      },
      "cell_type": "markdown",
      "source": [
        "**cell below takes long time**"
      ]
    },
    {
      "metadata": {
        "id": "wQkB2PAkHmUT",
        "colab_type": "code",
        "outputId": "7f45edb6-4eff-4314-e0ae-9335f7f31fd5",
        "trusted": true,
        "_uuid": "01ebbc11387883a763dd7256274cb968004244bc",
        "colab": {
          "base_uri": "https://localhost:8080/",
          "height": 156
        }
      },
      "cell_type": "code",
      "source": [
        "#Commenting as it takes long time\n",
        "# Fit the grid search to the data\n",
        "grid_search.fit(X_tr, Y_tr)\n",
        "# printing the optimal accuracy score and hyperparameters\n",
        "print('Accuracy is',grid_search.best_score_,'using',grid_search.best_params_)"
      ],
      "execution_count": 0,
      "outputs": [
        {
          "output_type": "stream",
          "text": [
            "Fitting 3 folds for each of 240 candidates, totalling 720 fits\n"
          ],
          "name": "stdout"
        },
        {
          "output_type": "stream",
          "text": [
            "[Parallel(n_jobs=-1)]: Using backend LokyBackend with 2 concurrent workers.\n",
            "[Parallel(n_jobs=-1)]: Done  46 tasks      | elapsed:  1.6min\n",
            "[Parallel(n_jobs=-1)]: Done 196 tasks      | elapsed:  9.5min\n",
            "[Parallel(n_jobs=-1)]: Done 446 tasks      | elapsed: 27.2min\n",
            "[Parallel(n_jobs=-1)]: Done 720 out of 720 | elapsed: 48.6min finished\n"
          ],
          "name": "stderr"
        },
        {
          "output_type": "stream",
          "text": [
            "Accuracy is 0.804177135678392 using {'max_depth': 12, 'max_features': 7, 'min_samples_leaf': 100, 'min_samples_split': 200, 'n_estimators': 700}\n"
          ],
          "name": "stdout"
        }
      ]
    },
    {
      "metadata": {
        "id": "EUThxYi7vBCN",
        "colab_type": "text"
      },
      "cell_type": "markdown",
      "source": [
        "### Final Forest"
      ]
    },
    {
      "metadata": {
        "trusted": true,
        "_uuid": "21f28cac131fa5d632e36bba921520814288c04d",
        "id": "9yY41EXeqSQJ",
        "colab_type": "code",
        "outputId": "f1a320cc-4237-4544-99be-65aed3f629c6",
        "colab": {
          "base_uri": "https://localhost:8080/",
          "height": 119
        }
      },
      "cell_type": "code",
      "source": [
        "from sklearn.ensemble import RandomForestClassifier\n",
        "from sklearn import metrics\n",
        "from sklearn.model_selection import train_test_split\n",
        "X_train, X_test, Y_train, Y_test = train_test_split(X,Y, test_size = 0.2, random_state = 25)\n",
        "\n",
        "model_rf = RandomForestClassifier(bootstrap=True,\n",
        "                                  max_depth=12,\n",
        "                                  min_samples_leaf=100, \n",
        "                                  min_samples_split=200,\n",
        "                                  n_estimators=700 ,\n",
        "                                  oob_score = True, n_jobs = -1,\n",
        "                                  random_state =50,\n",
        "                                  max_features = 7,\n",
        "                                  max_leaf_nodes = 30)\n",
        "model_rf.fit(X_train, Y_train)\n",
        "\n"
      ],
      "execution_count": 165,
      "outputs": [
        {
          "output_type": "execute_result",
          "data": {
            "text/plain": [
              "RandomForestClassifier(bootstrap=True, class_weight=None, criterion='gini',\n",
              "            max_depth=12, max_features=7, max_leaf_nodes=30,\n",
              "            min_impurity_decrease=0.0, min_impurity_split=None,\n",
              "            min_samples_leaf=100, min_samples_split=200,\n",
              "            min_weight_fraction_leaf=0.0, n_estimators=700, n_jobs=-1,\n",
              "            oob_score=True, random_state=50, verbose=0, warm_start=False)"
            ]
          },
          "metadata": {
            "tags": []
          },
          "execution_count": 165
        }
      ]
    },
    {
      "metadata": {
        "id": "skPfurOWvGSE",
        "colab_type": "text"
      },
      "cell_type": "markdown",
      "source": [
        ""
      ]
    },
    {
      "metadata": {
        "trusted": true,
        "_uuid": "d8b7c4582f8feedb9bcba8314850356f7553c5d5",
        "id": "57-SJxxTqSQN",
        "colab_type": "code",
        "outputId": "f59268d8-390a-441e-9050-d73f2ecc9ae7",
        "colab": {
          "base_uri": "https://localhost:8080/",
          "height": 204
        }
      },
      "cell_type": "code",
      "source": [
        "prediction_test = model_rf.predict(X_test)\n",
        "# evaluation metrics\n",
        "from sklearn.metrics import classification_report,confusion_matrix\n",
        "print(classification_report(Y_test,prediction_test))\n",
        "print(confusion_matrix(Y_test,prediction_test))"
      ],
      "execution_count": 166,
      "outputs": [
        {
          "output_type": "stream",
          "text": [
            "              precision    recall  f1-score   support\n",
            "\n",
            "           0       0.86      0.97      0.91      1624\n",
            "           1       0.70      0.32      0.44       376\n",
            "\n",
            "   micro avg       0.85      0.85      0.85      2000\n",
            "   macro avg       0.78      0.64      0.68      2000\n",
            "weighted avg       0.83      0.85      0.82      2000\n",
            "\n",
            "[[1571   53]\n",
            " [ 255  121]]\n"
          ],
          "name": "stdout"
        }
      ]
    },
    {
      "metadata": {
        "trusted": true,
        "_uuid": "ae07db29186ca8c985508bc0004e8e1537a49ed5",
        "id": "JBvEHFFWqSQO",
        "colab_type": "code",
        "outputId": "6f9276cb-5091-443a-9e49-4ad68deb158a",
        "colab": {
          "base_uri": "https://localhost:8080/",
          "height": 34
        }
      },
      "cell_type": "code",
      "source": [
        "print ('Accuracy Score for Random Forest Final Model :',metrics.accuracy_score(Y_test, prediction_test))"
      ],
      "execution_count": 167,
      "outputs": [
        {
          "output_type": "stream",
          "text": [
            "Accuracy Score for Random Forest Final Model : 0.846\n"
          ],
          "name": "stdout"
        }
      ]
    },
    {
      "metadata": {
        "trusted": true,
        "_uuid": "5dff035f8c6f6dfff63eff7c3cce04e72da2abf8",
        "id": "Ox5OYAv3qSQP",
        "colab_type": "code",
        "outputId": "0b209bda-4095-4ce7-873d-da835c2e5539",
        "colab": {
          "base_uri": "https://localhost:8080/",
          "height": 609
        }
      },
      "cell_type": "code",
      "source": [
        "X = one_hot_encoder_data.drop(columns=['exited'])\n",
        "# importances=model_rf.feature_importances_\n",
        "# importances\n",
        "# Scaling all the variables to a range of 0 to 1\n",
        "from sklearn.preprocessing import MinMaxScaler\n",
        "\n",
        "importances = model_rf.feature_importances_\n",
        "weights = pd.Series(importances,\n",
        "                 index=X.columns.values)\n",
        "plt.subplots(figsize=(10,10))\n",
        "\n",
        "weights.sort_values()[-5:].plot(kind = 'barh')"
      ],
      "execution_count": 168,
      "outputs": [
        {
          "output_type": "execute_result",
          "data": {
            "text/plain": [
              "<matplotlib.axes._subplots.AxesSubplot at 0x7f7f4147d278>"
            ]
          },
          "metadata": {
            "tags": []
          },
          "execution_count": 168
        },
        {
          "output_type": "display_data",
          "data": {
            "image/png": "[encoded data removed]",
            "text/plain": [
              "<matplotlib.figure.Figure at 0x7f7f41671b38>"
            ]
          },
          "metadata": {
            "tags": []
          }
        }
      ]
    },
    {
      "metadata": {
        "id": "qKjriJ4StnKd",
        "colab_type": "text"
      },
      "cell_type": "markdown",
      "source": [
        "**Accurancy:**\n",
        "\n",
        "**Logistic Regression:  71.2%**\n",
        "\n",
        "**ANN : 80%**\n",
        "\n",
        "**Desision Tree:  73.7%**\n",
        "**Tuning tree:80.2%**\n",
        "\n",
        "**Random Forest: 82.45%**\n",
        "**Tuning Forest: 84.6%**\n"
      ]
    },
    {
      "metadata": {
        "id": "HVcTo7GcvuG-",
        "colab_type": "text"
      },
      "cell_type": "markdown",
      "source": [
        "\n",
        "Summary:\n",
        "\n",
        "Among these results, the Random Forest with optimal parameters can get best classification result with 84.6%\n",
        "\n",
        "And it turns out that the Age, NumOfProducts, isActiveMember, Geography_Germany, Balance might influence customer's churn behavior :)\n"
      ]
    },
    {
      "metadata": {
        "id": "8c3bfzOzvkPB",
        "colab_type": "code",
        "colab": {}
      },
      "cell_type": "code",
      "source": [
        ""
      ],
      "execution_count": 0,
      "outputs": []
    }
  ]
}